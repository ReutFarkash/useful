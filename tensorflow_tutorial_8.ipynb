{
  "nbformat": 4,
  "nbformat_minor": 0,
  "metadata": {
    "colab": {
      "name": "tensorflow_tutorial_8.ipynb",
      "provenance": [],
      "authorship_tag": "ABX9TyOTKOlNtclBMqJF2RxUFwKh",
      "include_colab_link": true
    },
    "kernelspec": {
      "name": "python3",
      "display_name": "Python 3"
    },
    "accelerator": "GPU"
  },
  "cells": [
    {
      "cell_type": "markdown",
      "metadata": {
        "id": "view-in-github",
        "colab_type": "text"
      },
      "source": [
        "<a href=\"https://colab.research.google.com/github/ReutFarkash/useful/blob/main/tensorflow_tutorial_8.ipynb\" target=\"_parent\"><img src=\"https://colab.research.google.com/assets/colab-badge.svg\" alt=\"Open In Colab\"/></a>"
      ]
    },
    {
      "cell_type": "markdown",
      "metadata": {
        "id": "INR3ZLPwyWl1"
      },
      "source": [
        "[TensorFlow Tutorial 8 - Model Subclassing with Keras](https://www.youtube.com/watch?v=WcZ_1IAH_nM&ab_channel=AladdinPersson)<br>\n",
        "Aladdin Persson"
      ]
    },
    {
      "cell_type": "code",
      "metadata": {
        "id": "JOl5PbCE66me"
      },
      "source": [
        "import tensorflow as tf\n",
        "from tensorflow import keras\n",
        "from tensorflow.keras import layers\n",
        "from tensorflow.keras.datasets import mnist"
      ],
      "execution_count": 1,
      "outputs": []
    },
    {
      "cell_type": "code",
      "metadata": {
        "id": "NmI8Hl1R6_3p",
        "outputId": "6246b015-a4c7-4eef-d3fa-3a743f3e08a3",
        "colab": {
          "base_uri": "https://localhost:8080/"
        }
      },
      "source": [
        "(x_train, y_train), (x_test, y_test) = mnist.load_data()\n",
        "x_train = x_train.reshape(-1, 28, 28, 1).astype(\"float32\") / 255.0 # duing the reshape to add the nimber of channels (1)\n",
        "x_test = x_test.reshape(-1, 28, 28, 1).astype(\"float32\") / 255.0"
      ],
      "execution_count": 2,
      "outputs": [
        {
          "output_type": "stream",
          "text": [
            "Downloading data from https://storage.googleapis.com/tensorflow/tf-keras-datasets/mnist.npz\n",
            "11493376/11490434 [==============================] - 0s 0us/step\n"
          ],
          "name": "stdout"
        }
      ]
    },
    {
      "cell_type": "code",
      "metadata": {
        "id": "NTeCZ7pMzHeW"
      },
      "source": [
        "# CNN -> BatchNorm -> ReLU (common structure)\n",
        "# x10\n",
        "class CNNBlock(layers.Layer):\n",
        "  def __init__(self, out_channels, kernel_size=3):\n",
        "    super(CNNBlock, self).__init__()\n",
        "    self.conv = layers.Conv2D(out_channels, kernel_size, padding='same')\n",
        "    self.bn = layers.BatchNormalization()\n",
        "  \n",
        "  def call(self, input_tensor, training=False):\n",
        "    x = self.conv(input_tensor)\n",
        "    print(x.shape)\n",
        "    x = self.bn(x, training=training)\n",
        "    x = tf.nn.relu(x)\n",
        "    return x"
      ],
      "execution_count": 3,
      "outputs": []
    },
    {
      "cell_type": "code",
      "metadata": {
        "id": "NfL-DR9M1gm6"
      },
      "source": [
        "model = keras.Sequential(\n",
        "    [\n",
        "     CNNBlock(32),\n",
        "     CNNBlock(64),\n",
        "     CNNBlock(128),\n",
        "     layers.Flatten(),\n",
        "     layers.Dense(10),\n",
        "    ]\n",
        ")"
      ],
      "execution_count": 4,
      "outputs": []
    },
    {
      "cell_type": "code",
      "metadata": {
        "id": "Pp895h-F1kye",
        "outputId": "93f4789b-7ec7-4fe9-966c-39fd1ef1cf41",
        "colab": {
          "base_uri": "https://localhost:8080/"
        }
      },
      "source": [
        "model.compile(\n",
        "    optimizer=keras.optimizers.Adam(),\n",
        "    loss=keras.losses.SparseCategoricalCrossentropy(from_logits=True),\n",
        "    metrics=[\"accuracy\"],\n",
        ")\n",
        "\n",
        "model.fit(x_train, y_train, batch_size=64, epochs=3, verbose=2)\n",
        "model.evaluate(x_test, y_test, batch_size=64, verbose=2)"
      ],
      "execution_count": 5,
      "outputs": [
        {
          "output_type": "stream",
          "text": [
            "Epoch 1/3\n",
            "(None, 28, 28, 32)\n",
            "(None, 28, 28, 64)\n",
            "(None, 28, 28, 128)\n",
            "(None, 28, 28, 32)\n",
            "(None, 28, 28, 64)\n",
            "(None, 28, 28, 128)\n",
            "(None, 28, 28, 32)\n",
            "(None, 28, 28, 64)\n",
            "(None, 28, 28, 128)\n",
            "938/938 - 11s - loss: 0.5878 - accuracy: 0.9463\n",
            "Epoch 2/3\n",
            "938/938 - 11s - loss: 0.0948 - accuracy: 0.9815\n",
            "Epoch 3/3\n",
            "938/938 - 11s - loss: 0.0354 - accuracy: 0.9896\n",
            "(None, 28, 28, 32)\n",
            "(None, 28, 28, 64)\n",
            "(None, 28, 28, 128)\n",
            "157/157 - 1s - loss: 0.0477 - accuracy: 0.9839\n"
          ],
          "name": "stdout"
        },
        {
          "output_type": "execute_result",
          "data": {
            "text/plain": [
              "[0.04766438156366348, 0.9839000105857849]"
            ]
          },
          "metadata": {
            "tags": []
          },
          "execution_count": 5
        }
      ]
    },
    {
      "cell_type": "code",
      "metadata": {
        "id": "WruwxOSq2ByW"
      },
      "source": [
        "class ResBlock(layers.Layer):\n",
        "  def __init__(self, channels):\n",
        "    super(ResBlock, self).__init__()\n",
        "    self.cnn1 = CNNBlock(channels[0])\n",
        "    self.cnn2 = CNNBlock(channels[1])\n",
        "    self.cnn3 = CNNBlock(channels[2])\n",
        "    self.pooling = layers.MaxPooling2D()\n",
        "    self.identity_mapping = layers.Conv2D(channels[1], 1, padding='same')\n",
        "  \n",
        "  def call(self, input_tensor, training=False):\n",
        "    x = self. cnn1(input_tensor, training=training)\n",
        "    x = self.cnn2(x, training=training)\n",
        "    x = self.cnn3(x + self.identity_mapping(input_tensor), training=training)\n",
        "    return self.pooling(x)"
      ],
      "execution_count": 6,
      "outputs": []
    },
    {
      "cell_type": "code",
      "metadata": {
        "id": "dBOxj4QQ6FxS"
      },
      "source": [
        "class ResNet_Like(keras.Model):\n",
        "  def __init__(self, num_classes=10):\n",
        "    super(ResNet_Like, self).__init__()\n",
        "    self.block1 = ResBlock([32, 32, 64])\n",
        "    self.block2 = ResBlock([128, 128, 256])\n",
        "    self.block3 = ResBlock([128, 256, 512])\n",
        "    self.pool = layers.GlobalAveragePooling2D()\n",
        "    self.classifier = layers.Dense(num_classes)\n",
        "  \n",
        "  def call(self, input_tensor, training=False):\n",
        "    x = self.block1(input_tensor, training=training)\n",
        "    x = self.block2(x, training=training)\n",
        "    x = self.block3(x, training=training)\n",
        "    x = self.pool(x)\n",
        "    return self.classifier(x)\n",
        "  \n",
        "  def model(self): # so we can print the summay like we are used to \n",
        "    x = keras.Input(shape=(28, 28, 1))\n",
        "    return keras.Model(inputs=[x], outputs=self.call(x))"
      ],
      "execution_count": 10,
      "outputs": []
    },
    {
      "cell_type": "code",
      "metadata": {
        "id": "4KXClQyWQ1UQ"
      },
      "source": [
        ""
      ],
      "execution_count": 10,
      "outputs": []
    },
    {
      "cell_type": "code",
      "metadata": {
        "id": "kiLWOpIHQGM2",
        "outputId": "9f8e2768-9996-4c31-e18d-629777ff71ad",
        "colab": {
          "base_uri": "https://localhost:8080/"
        }
      },
      "source": [
        "model = ResNet_Like(num_classes=10)\n",
        "\n",
        "model.compile(\n",
        "    optimizer=keras.optimizers.Adam(),\n",
        "    loss=keras.losses.SparseCategoricalCrossentropy(from_logits=True),\n",
        "    metrics=[\"accuracy\"],\n",
        ")\n",
        "\n",
        "model.fit(x_train, y_train, batch_size=64, epochs=3, verbose=2)\n",
        "print(model.model().summary())\n",
        "model.evaluate(x_test, y_test, batch_size=64, verbose=2)"
      ],
      "execution_count": 12,
      "outputs": [
        {
          "output_type": "stream",
          "text": [
            "Epoch 1/3\n",
            "(None, 28, 28, 32)\n",
            "(None, 28, 28, 32)\n",
            "(None, 28, 28, 64)\n",
            "(None, 14, 14, 128)\n",
            "(None, 14, 14, 128)\n",
            "(None, 14, 14, 256)\n",
            "(None, 7, 7, 128)\n",
            "(None, 7, 7, 256)\n",
            "(None, 7, 7, 512)\n",
            "(None, 28, 28, 32)\n",
            "(None, 28, 28, 32)\n",
            "(None, 28, 28, 64)\n",
            "(None, 14, 14, 128)\n",
            "(None, 14, 14, 128)\n",
            "(None, 14, 14, 256)\n",
            "(None, 7, 7, 128)\n",
            "(None, 7, 7, 256)\n",
            "(None, 7, 7, 512)\n",
            "938/938 - 22s - loss: 0.0853 - accuracy: 0.9749\n",
            "Epoch 2/3\n",
            "938/938 - 22s - loss: 0.0358 - accuracy: 0.9886\n",
            "Epoch 3/3\n",
            "938/938 - 22s - loss: 0.0277 - accuracy: 0.9912\n",
            "(None, 28, 28, 32)\n",
            "(None, 28, 28, 32)\n",
            "(None, 28, 28, 64)\n",
            "(None, 14, 14, 128)\n",
            "(None, 14, 14, 128)\n",
            "(None, 14, 14, 256)\n",
            "(None, 7, 7, 128)\n",
            "(None, 7, 7, 256)\n",
            "(None, 7, 7, 512)\n",
            "Model: \"functional_1\"\n",
            "_________________________________________________________________\n",
            "Layer (type)                 Output Shape              Param #   \n",
            "=================================================================\n",
            "input_1 (InputLayer)         [(None, 28, 28, 1)]       0         \n",
            "_________________________________________________________________\n",
            "res_block_6 (ResBlock)       (None, 14, 14, 64)        28640     \n",
            "_________________________________________________________________\n",
            "res_block_7 (ResBlock)       (None, 7, 7, 256)         526976    \n",
            "_________________________________________________________________\n",
            "res_block_8 (ResBlock)       (None, 3, 3, 512)         1839744   \n",
            "_________________________________________________________________\n",
            "global_average_pooling2d_2 ( (None, 512)               0         \n",
            "_________________________________________________________________\n",
            "dense_3 (Dense)              (None, 10)                5130      \n",
            "=================================================================\n",
            "Total params: 2,400,490\n",
            "Trainable params: 2,397,418\n",
            "Non-trainable params: 3,072\n",
            "_________________________________________________________________\n",
            "None\n",
            "(None, 28, 28, 32)\n",
            "(None, 28, 28, 32)\n",
            "(None, 28, 28, 64)\n",
            "(None, 14, 14, 128)\n",
            "(None, 14, 14, 128)\n",
            "(None, 14, 14, 256)\n",
            "(None, 7, 7, 128)\n",
            "(None, 7, 7, 256)\n",
            "(None, 7, 7, 512)\n",
            "157/157 - 1s - loss: 0.0571 - accuracy: 0.9842\n"
          ],
          "name": "stdout"
        },
        {
          "output_type": "execute_result",
          "data": {
            "text/plain": [
              "[0.0571453720331192, 0.9842000007629395]"
            ]
          },
          "metadata": {
            "tags": []
          },
          "execution_count": 12
        }
      ]
    },
    {
      "cell_type": "code",
      "metadata": {
        "id": "Cnz-3y0HQPnA",
        "outputId": "27b533eb-a3e0-4595-af7a-24bb64d64b0f",
        "colab": {
          "base_uri": "https://localhost:8080/"
        }
      },
      "source": [
        "print(model.summary())"
      ],
      "execution_count": 13,
      "outputs": [
        {
          "output_type": "stream",
          "text": [
            "Model: \"res_net__like_2\"\n",
            "_________________________________________________________________\n",
            "Layer (type)                 Output Shape              Param #   \n",
            "=================================================================\n",
            "res_block_6 (ResBlock)       (None, 14, 14, 64)        28640     \n",
            "_________________________________________________________________\n",
            "res_block_7 (ResBlock)       (None, 7, 7, 256)         526976    \n",
            "_________________________________________________________________\n",
            "res_block_8 (ResBlock)       (None, 3, 3, 512)         1839744   \n",
            "_________________________________________________________________\n",
            "global_average_pooling2d_2 ( (None, 512)               0         \n",
            "_________________________________________________________________\n",
            "dense_3 (Dense)              (None, 10)                5130      \n",
            "=================================================================\n",
            "Total params: 2,400,490\n",
            "Trainable params: 2,397,418\n",
            "Non-trainable params: 3,072\n",
            "_________________________________________________________________\n",
            "None\n"
          ],
          "name": "stdout"
        }
      ]
    },
    {
      "cell_type": "code",
      "metadata": {
        "id": "oR7z2svaQfvV"
      },
      "source": [
        ""
      ],
      "execution_count": null,
      "outputs": []
    }
  ]
}