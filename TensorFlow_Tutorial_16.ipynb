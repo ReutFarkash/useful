{
  "nbformat": 4,
  "nbformat_minor": 0,
  "metadata": {
    "colab": {
      "name": "TensorFlow_Tutorial_16.ipynb",
      "provenance": [],
      "authorship_tag": "ABX9TyNSB2UaKXtvGknprVydKmIm",
      "include_colab_link": true
    },
    "kernelspec": {
      "name": "python3",
      "display_name": "Python 3"
    }
  },
  "cells": [
    {
      "cell_type": "markdown",
      "metadata": {
        "id": "view-in-github",
        "colab_type": "text"
      },
      "source": [
        "<a href=\"https://colab.research.google.com/github/ReutFarkash/useful/blob/main/TensorFlow_Tutorial_16.ipynb\" target=\"_parent\"><img src=\"https://colab.research.google.com/assets/colab-badge.svg\" alt=\"Open In Colab\"/></a>"
      ]
    },
    {
      "cell_type": "markdown",
      "metadata": {
        "id": "4EMQUIFtWUB9"
      },
      "source": [
        "[TensorFlow Tutorial 16 - Custom Training Loops](https://www.youtube.com/watch?v=_u7AVsxANes)"
      ]
    },
    {
      "cell_type": "code",
      "metadata": {
        "id": "zVrG9G7FWS8f"
      },
      "source": [
        "import tensorflow as tf\n",
        "from tensorflow import keras\n",
        "from tensorflow.keras import layers\n",
        "from tensorflow.keras.datasets import mnist\n",
        "import tensorflow_datasets as tfds"
      ],
      "execution_count": 1,
      "outputs": []
    },
    {
      "cell_type": "code",
      "metadata": {
        "id": "7FXhCHzE0lwL"
      },
      "source": [
        "(ds_train, ds_test), ds_info = tfds.load(\n",
        "    \"mnist\",\n",
        "    split=[\"train\", \"test\"],\n",
        "    shuffle_files=True,\n",
        "    as_supervised=True,\n",
        "    with_info=True,\n",
        ")"
      ],
      "execution_count": 2,
      "outputs": []
    },
    {
      "cell_type": "code",
      "metadata": {
        "id": "50Fvrf2D47u3"
      },
      "source": [
        "def normalize_img(image, label):\n",
        "    \"\"\"Normalizes images\"\"\"\n",
        "    return tf.cast(image, tf.float32) / 255.0, label\n",
        "\n",
        "\n",
        "AUTOTUNE = tf.data.experimental.AUTOTUNE\n",
        "BATCH_SIZE = 128\n",
        "\n",
        "# Setup for train dataset\n",
        "ds_train = ds_train.map(normalize_img, num_parallel_calls=AUTOTUNE)\n",
        "ds_train = ds_train.cache()\n",
        "ds_train = ds_train.shuffle(ds_info.splits[\"train\"].num_examples)\n",
        "ds_train = ds_train.batch(BATCH_SIZE)\n",
        "ds_train = ds_train.prefetch(AUTOTUNE)\n",
        "\n",
        "# Setup for test Dataset\n",
        "ds_test = ds_train.map(normalize_img, num_parallel_calls=AUTOTUNE)\n",
        "ds_test = ds_train.batch(128)\n",
        "ds_test = ds_train.prefetch(AUTOTUNE)"
      ],
      "execution_count": 3,
      "outputs": []
    },
    {
      "cell_type": "code",
      "metadata": {
        "id": "HK6VC52l0sqS"
      },
      "source": [
        "model = keras.Sequential(\n",
        "    [\n",
        "        keras.Input((28, 28, 1)),\n",
        "        layers.Conv2D(32, 3, activation=\"relu\"),\n",
        "        layers.Flatten(),\n",
        "        layers.Dense(10, activation=\"softmax\"),\n",
        "    ]\n",
        ")"
      ],
      "execution_count": 4,
      "outputs": []
    },
    {
      "cell_type": "code",
      "metadata": {
        "id": "cNdIBfR00w7v"
      },
      "source": [
        "num_epochs = 5\n",
        "optimizer = keras.optimizers.Adam()\n",
        "loss_fn = keras.losses.SparseCategoricalCrossentropy(from_logits=True)\n",
        "acc_metric = keras.metrics.SparseCategoricalAccuracy()"
      ],
      "execution_count": 5,
      "outputs": []
    },
    {
      "cell_type": "code",
      "metadata": {
        "colab": {
          "base_uri": "https://localhost:8080/"
        },
        "id": "66nxLixK08NR",
        "outputId": "c8c89501-658e-4eb4-dd5f-be1bd574d9d2"
      },
      "source": [
        "# Training Loop\n",
        "for epoch in range(num_epochs):\n",
        "  print(f\"\\nStart of Training Epoch {epoch}\")\n",
        "  for batch_idx, (x_batch, y_batch) in enumerate(ds_train):\n",
        "    with tf.GradientTape() as tape:\n",
        "      y_pred = model(x_batch, training=True)\n",
        "      loss = loss_fn(y_batch, y_pred)\n",
        "    \n",
        "    gradients = tape.gradient(loss, model.trainable_weights)\n",
        "    optimizer.apply_gradients(zip(gradients, model.trainable_weights))\n",
        "    acc_metric.update_state(y_batch, y_pred)\n",
        "  \n",
        "  train_acc = acc_metric.result()\n",
        "  print(f\"Accuracy over epoch {train_acc}\")\n",
        "  acc_metric.reset_states()"
      ],
      "execution_count": 6,
      "outputs": [
        {
          "output_type": "stream",
          "text": [
            "\n",
            "Start of Training Epoch 0\n",
            "Accuracy over epoch 0.8947833180427551\n",
            "\n",
            "Start of Training Epoch 1\n",
            "Accuracy over epoch 0.9502000212669373\n",
            "\n",
            "Start of Training Epoch 2\n",
            "Accuracy over epoch 0.9697166681289673\n",
            "\n",
            "Start of Training Epoch 3\n",
            "Accuracy over epoch 0.9769166707992554\n",
            "\n",
            "Start of Training Epoch 4\n",
            "Accuracy over epoch 0.980816662311554\n"
          ],
          "name": "stdout"
        }
      ]
    },
    {
      "cell_type": "code",
      "metadata": {
        "colab": {
          "base_uri": "https://localhost:8080/"
        },
        "id": "WP_nFaPG3qDh",
        "outputId": "fbe310b7-d9b2-4004-9bed-11ca03bfcfcd"
      },
      "source": [
        "# Test Loop\n",
        "for batch_idx, (x_batch, y_batch) in enumerate(ds_test):\n",
        "  y_pred = model(x_batch, training=True)\n",
        "  acc_metric.update_state(y_batch, y_pred)\n",
        "\n",
        "train_acc = acc_metric.result()\n",
        "print(f\"Accuracy over Test Set: {train_acc}\")\n",
        "acc_metric.reset_states()"
      ],
      "execution_count": 8,
      "outputs": [
        {
          "output_type": "stream",
          "text": [
            "Accuracy over Test Set: 0.9836666584014893\n"
          ],
          "name": "stdout"
        }
      ]
    },
    {
      "cell_type": "code",
      "metadata": {
        "id": "CTRT_lgV5ltc"
      },
      "source": [
        ""
      ],
      "execution_count": null,
      "outputs": []
    }
  ]
}