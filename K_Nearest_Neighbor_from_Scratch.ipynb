{
  "nbformat": 4,
  "nbformat_minor": 0,
  "metadata": {
    "colab": {
      "name": "K-Nearest_Neighbor_from_Scratch.ipynb",
      "provenance": [],
      "authorship_tag": "ABX9TyNqaLsvKEmp4kNjPTx34r+F",
      "include_colab_link": true
    },
    "kernelspec": {
      "name": "python3",
      "display_name": "Python 3"
    }
  },
  "cells": [
    {
      "cell_type": "markdown",
      "metadata": {
        "id": "view-in-github",
        "colab_type": "text"
      },
      "source": [
        "<a href=\"https://colab.research.google.com/github/ReutFarkash/useful/blob/main/K_Nearest_Neighbor_from_Scratch.ipynb\" target=\"_parent\"><img src=\"https://colab.research.google.com/assets/colab-badge.svg\" alt=\"Open In Colab\"/></a>"
      ]
    },
    {
      "cell_type": "markdown",
      "metadata": {
        "id": "Qg2BA9-4963H"
      },
      "source": [
        "[K-Nearest Neighbor from Scratch - Machine Learning Python](https://www.youtube.com/watch?v=QzAaRuDskyc&list=PLhhyoLH6IjfxpLWyOgBt1sBzIapdRKZmj&ab_channel=AladdinPersson)"
      ]
    },
    {
      "cell_type": "code",
      "metadata": {
        "id": "8SlFf8Ay92xi"
      },
      "source": [
        "import numpy as np"
      ],
      "execution_count": 1,
      "outputs": []
    },
    {
      "cell_type": "code",
      "metadata": {
        "colab": {
          "base_uri": "https://localhost:8080/"
        },
        "id": "vHC2lfxv-VI5",
        "outputId": "06244dda-f0a1-453b-b0f2-bdb58184d668"
      },
      "source": [
        "class KNearestNeighbor():\n",
        "  def __init__(self, k):\n",
        "    self.k = k\n",
        "\n",
        "  def train(self, X, y):\n",
        "    self.X_train = X\n",
        "    self.y_train = y\n",
        "  \n",
        "  def predict(self, X_test, num_loops=2):\n",
        "    if num_loops == 2:\n",
        "      distances = self.compute_distance_two_loops(X_test)\n",
        "    if num_loops == 1:\n",
        "      distances = self.compute_distance_one_loop(X_test)\n",
        "    else:\n",
        "      distances = self.compute_distance_vectorized(X_test)\n",
        "    return self.predict_labels(distances)\n",
        "  \n",
        "  def compute_distance_two_loops(self, X_test):\n",
        "    # Naive, inefficient way\n",
        "    num_test = X_test.shape[0]\n",
        "    num_train = self.X_train.shape[0]\n",
        "    distances = np.zeros((num_test, num_train))\n",
        "    for i in range(num_test):\n",
        "      for j in range(num_train):\n",
        "        distances[i,j] = np.sqrt(np.sum((X_test[i,:] - self.X_train[j,:])**2))\n",
        "\n",
        "    #np.sqrt(np.sum(np.power(X_test - X_train), axis=0), axis=0)\n",
        "\n",
        "    return distances\n",
        "  \n",
        "  def compute_distance_one_loop(self, X_test):\n",
        "    # Naive, inefficient way\n",
        "    num_test = X_test.shape[0]\n",
        "    num_train = self.X_train.shape[0]\n",
        "    distances = np.zeros((num_test, num_train))\n",
        "    for i in range(num_test):\n",
        "      distances[i,:] = np.sqrt(np.sum((self.X_train - X_test[i,:])**2, axis=1))\n",
        "    return distances\n",
        "  \n",
        "  def compute_distance_vectorized(self, X_test):\n",
        "    # (X_test - X_train)^2 = X_test^2 - 2*X_test*X_train + X_train^2\n",
        "    X_test_squared = np.sum(X_test**2, axis=1, keepdims=True)\n",
        "    X_train_squared = np.sum(self.X_train**2, axis=1, keepdims=True)\n",
        "    two_X_test_X_train = np.dot(X_test, self.X_train.T)\n",
        "    return np.sqrt(X_test_squared - 2*two_X_test_X_train + X_train_squared.T)\n",
        "  \n",
        "  def predict_labels(self, distances):\n",
        "    num_test = distances.shape[0]\n",
        "    y_pred = np.zeros(num_test)\n",
        "\n",
        "    for i in range(num_test):\n",
        "      y_indices = np.argsort(distances[i,:])\n",
        "      k_closest_classes = self.y_train[y_indices[:self.k]].astype(int)\n",
        "      y_pred[i] = np.argmax(np.bincount(k_closest_classes))\n",
        "\n",
        "    return y_pred\n",
        "\n",
        "\n",
        "\n",
        "X = np.loadtxt('https://raw.githubusercontent.com/aladdinpersson/Machine-Learning-Collection/master/ML/algorithms/knn/example_data/data.txt', delimiter=',')\n",
        "y = np.loadtxt('https://raw.githubusercontent.com/aladdinpersson/Machine-Learning-Collection/master/ML/algorithms/knn/example_data/targets.txt')\n",
        "KNN = KNearestNeighbor(k=3)\n",
        "KNN.train(X, y)\n",
        "y_pred = KNN.predict(X, num_loops=0)\n",
        "\n",
        "print(f'Accuracy: {sum(y_pred==y)/y.shape[0]}')"
      ],
      "execution_count": 3,
      "outputs": [
        {
          "output_type": "stream",
          "text": [
            "Accuracy: 0.9111111111111111\n"
          ],
          "name": "stdout"
        },
        {
          "output_type": "stream",
          "text": [
            "/usr/local/lib/python3.6/dist-packages/ipykernel_launcher.py:45: RuntimeWarning: invalid value encountered in sqrt\n"
          ],
          "name": "stderr"
        }
      ]
    },
    {
      "cell_type": "code",
      "metadata": {
        "id": "SJJrDd2lFTi7"
      },
      "source": [
        ""
      ],
      "execution_count": null,
      "outputs": []
    }
  ]
}