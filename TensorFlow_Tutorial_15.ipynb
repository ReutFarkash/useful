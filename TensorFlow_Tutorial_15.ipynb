{
  "nbformat": 4,
  "nbformat_minor": 0,
  "metadata": {
    "colab": {
      "name": "TensorFlow_Tutorial_15.ipynb",
      "provenance": [],
      "authorship_tag": "ABX9TyP9fGtfa1/SX1MgBE+Dc3hF",
      "include_colab_link": true
    },
    "kernelspec": {
      "name": "python3",
      "display_name": "Python 3"
    },
    "accelerator": "GPU"
  },
  "cells": [
    {
      "cell_type": "markdown",
      "metadata": {
        "id": "view-in-github",
        "colab_type": "text"
      },
      "source": [
        "<a href=\"https://colab.research.google.com/github/ReutFarkash/useful/blob/main/TensorFlow_Tutorial_15.ipynb\" target=\"_parent\"><img src=\"https://colab.research.google.com/assets/colab-badge.svg\" alt=\"Open In Colab\"/></a>"
      ]
    },
    {
      "cell_type": "markdown",
      "metadata": {
        "id": "GQshakJc8Hrk"
      },
      "source": [
        "[TensorFlow Tutorial 15 - Customizing Model.Fit](https://www.youtube.com/watch?v=S6tLSI8bjGs&ab_channel=AladdinPersson)"
      ]
    },
    {
      "cell_type": "code",
      "metadata": {
        "id": "4JVUrmgs8EiU"
      },
      "source": [
        "import tensorflow as tf\n",
        "from tensorflow import keras\n",
        "from tensorflow.keras import layers\n",
        "from tensorflow.keras.datasets import mnist"
      ],
      "execution_count": 1,
      "outputs": []
    },
    {
      "cell_type": "code",
      "metadata": {
        "id": "u_iffPvV_flQ"
      },
      "source": [
        "(x_train, y_train), (x_test, y_test) = mnist.load_data()\n",
        "x_train = x_train.reshape(-1, 28, 28, 1).astype(\"float32\") / 255.0\n",
        "x_test = x_test.reshape(-1, 28, 28, 1).astype(\"float32\") / 255.0"
      ],
      "execution_count": 2,
      "outputs": []
    },
    {
      "cell_type": "code",
      "metadata": {
        "id": "DctfszKpVDUm"
      },
      "source": [
        "model = keras.Sequential(\n",
        "    [\n",
        "     layers.Input(shape=(28, 28, 1)),\n",
        "     layers.Conv2D(64, 3, padding='same'),\n",
        "     layers.ReLU(),\n",
        "     layers.Conv2D(128, 3, padding='same'),\n",
        "     layers.ReLU(),\n",
        "     layers.Flatten(),\n",
        "     layers.Dense(10),\n",
        "    ],\n",
        "    name='model',\n",
        ")"
      ],
      "execution_count": 3,
      "outputs": []
    },
    {
      "cell_type": "code",
      "metadata": {
        "id": "LRLWqiRCVqrx"
      },
      "source": [
        "class CustomFit(keras.Model):\n",
        "  def __init__(self, model):\n",
        "    super(CustomFit, self).__init__()\n",
        "    self.model = model\n",
        "  \n",
        "  def train_step(self, data):\n",
        "    x, y = data\n",
        "\n",
        "    with tf.GradientTape() as tape:\n",
        "      y_pred = self.model(x, training=True)\n",
        "      loss = self.compiled_loss(y, y_pred)\n",
        "    \n",
        "    training_vars = self.trainable_variables\n",
        "    gradients = tape.gradient(loss, training_vars)\n",
        "\n",
        "    self.optimizer.apply_gradients(zip(gradients, training_vars))\n",
        "    self.compiled_metrics.update_state(y, y_pred)\n",
        "\n",
        "    return {m.name : m.result() for m in self.metrics}"
      ],
      "execution_count": 4,
      "outputs": []
    },
    {
      "cell_type": "code",
      "metadata": {
        "colab": {
          "base_uri": "https://localhost:8080/"
        },
        "id": "21HSXMY2VDM6",
        "outputId": "19b6de36-fe1a-40b5-c5e2-3790e454376e"
      },
      "source": [
        "training = CustomFit(model)\n",
        "training.compile(\n",
        "    optimizer=keras.optimizers.Adam(),\n",
        "    loss=keras.losses.SparseCategoricalCrossentropy(from_logits=True),\n",
        "    metrics=[\"accuracy\"],\n",
        ")\n",
        "training.fit(x_train, y_train, batch_size=32, epochs=2)"
      ],
      "execution_count": 5,
      "outputs": [
        {
          "output_type": "stream",
          "text": [
            "Epoch 1/2\n",
            "1875/1875 [==============================] - 8s 4ms/step - loss: 0.1100 - accuracy: 0.9667\n",
            "Epoch 2/2\n",
            "1875/1875 [==============================] - 8s 4ms/step - loss: 0.0409 - accuracy: 0.9872\n"
          ],
          "name": "stdout"
        },
        {
          "output_type": "execute_result",
          "data": {
            "text/plain": [
              "<tensorflow.python.keras.callbacks.History at 0x7f7f005b16d8>"
            ]
          },
          "metadata": {
            "tags": []
          },
          "execution_count": 5
        }
      ]
    },
    {
      "cell_type": "code",
      "metadata": {
        "colab": {
          "base_uri": "https://localhost:8080/"
        },
        "id": "eTBGR16Jbl9h",
        "outputId": "595a9ca9-efcd-4ca1-cead-6ec7515e1929"
      },
      "source": [
        "class CustomFit(keras.Model):\n",
        "  def __init__(self, model):\n",
        "    super(CustomFit, self).__init__()\n",
        "    self.model = model\n",
        "\n",
        "  def compile(self, optimizer, loss):\n",
        "    super(CustomFit, self).compile()\n",
        "    self.optimizer = optimizer\n",
        "    self.loss = loss\n",
        "\n",
        "  def train_step(self, data):\n",
        "    x, y = data\n",
        "\n",
        "    with tf.GradientTape() as tape:\n",
        "      y_pred = self.model(x, training=True)\n",
        "      loss = self.loss(y, y_pred)\n",
        "    \n",
        "    training_vars = self.trainable_variables\n",
        "    gradients = tape.gradient(loss, training_vars)\n",
        "\n",
        "    self.optimizer.apply_gradients(zip(gradients, training_vars))\n",
        "    acc_metric.update_state(y, y_pred)\n",
        "\n",
        "    return {\"loss\" : loss, \"accuracy\" : acc_metric.result()}\n",
        "  \n",
        "  def test_step(self, data):\n",
        "    x, y = data\n",
        "\n",
        "    y_pred = self.model(x, training=False)\n",
        "    loss = self.loss(y, y_pred)\n",
        "    acc_metric.update_state(y, y_pred)\n",
        "\n",
        "    return {\"loss\": loss, \"accuracy\": acc_metric.result()}\n",
        "\n",
        "acc_metric = keras.metrics.SparseCategoricalAccuracy(name=\"accuracy\")\n",
        "\n",
        "training = CustomFit(model)\n",
        "training.compile(\n",
        "    optimizer=keras.optimizers.Adam(learning_rate=3e-4),\n",
        "    loss=keras.losses.SparseCategoricalCrossentropy(from_logits=True),\n",
        ")\n",
        "training.fit(x_train, y_train, batch_size=64, epochs=2)\n",
        "training.evaluate(x_test, y_test, batch_size=32)"
      ],
      "execution_count": 6,
      "outputs": [
        {
          "output_type": "stream",
          "text": [
            "Epoch 1/2\n",
            "938/938 [==============================] - 8s 8ms/step - loss: 0.0114 - accuracy: 0.9967\n",
            "Epoch 2/2\n",
            "938/938 [==============================] - 8s 8ms/step - loss: 0.0053 - accuracy: 0.9974\n",
            "313/313 [==============================] - 1s 2ms/step - loss: 0.0380 - accuracy: 0.9972\n"
          ],
          "name": "stdout"
        },
        {
          "output_type": "execute_result",
          "data": {
            "text/plain": [
              "[]"
            ]
          },
          "metadata": {
            "tags": []
          },
          "execution_count": 6
        }
      ]
    }
  ]
}