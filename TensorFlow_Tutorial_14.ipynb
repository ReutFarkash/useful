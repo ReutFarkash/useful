{
  "nbformat": 4,
  "nbformat_minor": 0,
  "metadata": {
    "colab": {
      "name": "TensorFlow_Tutorial_14.ipynb",
      "provenance": [],
      "authorship_tag": "ABX9TyNc87wVdykSMERNfr18/IGJ",
      "include_colab_link": true
    },
    "kernelspec": {
      "name": "python3",
      "display_name": "Python 3"
    },
    "widgets": {
      "application/vnd.jupyter.widget-state+json": {
        "e345dc57e18443b8b454983f6cb37f38": {
          "model_module": "@jupyter-widgets/controls",
          "model_name": "HBoxModel",
          "state": {
            "_view_name": "HBoxView",
            "_dom_classes": [],
            "_model_name": "HBoxModel",
            "_view_module": "@jupyter-widgets/controls",
            "_model_module_version": "1.5.0",
            "_view_count": null,
            "_view_module_version": "1.5.0",
            "box_style": "",
            "layout": "IPY_MODEL_e135b8fc69b54c23a1af8c88753f08d5",
            "_model_module": "@jupyter-widgets/controls",
            "children": [
              "IPY_MODEL_2d9517f727a340d7ba755659c7a3770f",
              "IPY_MODEL_bb108b30917b40cf8b369bf426f0c14a"
            ]
          }
        },
        "e135b8fc69b54c23a1af8c88753f08d5": {
          "model_module": "@jupyter-widgets/base",
          "model_name": "LayoutModel",
          "state": {
            "_view_name": "LayoutView",
            "grid_template_rows": null,
            "right": null,
            "justify_content": null,
            "_view_module": "@jupyter-widgets/base",
            "overflow": null,
            "_model_module_version": "1.2.0",
            "_view_count": null,
            "flex_flow": null,
            "width": null,
            "min_width": null,
            "border": null,
            "align_items": null,
            "bottom": null,
            "_model_module": "@jupyter-widgets/base",
            "top": null,
            "grid_column": null,
            "overflow_y": null,
            "overflow_x": null,
            "grid_auto_flow": null,
            "grid_area": null,
            "grid_template_columns": null,
            "flex": null,
            "_model_name": "LayoutModel",
            "justify_items": null,
            "grid_row": null,
            "max_height": null,
            "align_content": null,
            "visibility": null,
            "align_self": null,
            "height": null,
            "min_height": null,
            "padding": null,
            "grid_auto_rows": null,
            "grid_gap": null,
            "max_width": null,
            "order": null,
            "_view_module_version": "1.2.0",
            "grid_template_areas": null,
            "object_position": null,
            "object_fit": null,
            "grid_auto_columns": null,
            "margin": null,
            "display": null,
            "left": null
          }
        },
        "2d9517f727a340d7ba755659c7a3770f": {
          "model_module": "@jupyter-widgets/controls",
          "model_name": "FloatProgressModel",
          "state": {
            "_view_name": "ProgressView",
            "style": "IPY_MODEL_09990b936860461596dbbed34c02df9f",
            "_dom_classes": [],
            "description": "Dl Completed...: 100%",
            "_model_name": "FloatProgressModel",
            "bar_style": "success",
            "max": 4,
            "_view_module": "@jupyter-widgets/controls",
            "_model_module_version": "1.5.0",
            "value": 4,
            "_view_count": null,
            "_view_module_version": "1.5.0",
            "orientation": "horizontal",
            "min": 0,
            "description_tooltip": null,
            "_model_module": "@jupyter-widgets/controls",
            "layout": "IPY_MODEL_1ff2fba2c8c14800b41177cfa5441a91"
          }
        },
        "bb108b30917b40cf8b369bf426f0c14a": {
          "model_module": "@jupyter-widgets/controls",
          "model_name": "HTMLModel",
          "state": {
            "_view_name": "HTMLView",
            "style": "IPY_MODEL_e374e44f94e648caacc780bdbb29b937",
            "_dom_classes": [],
            "description": "",
            "_model_name": "HTMLModel",
            "placeholder": "​",
            "_view_module": "@jupyter-widgets/controls",
            "_model_module_version": "1.5.0",
            "value": " 4/4 [00:05&lt;00:00,  1.29s/ file]",
            "_view_count": null,
            "_view_module_version": "1.5.0",
            "description_tooltip": null,
            "_model_module": "@jupyter-widgets/controls",
            "layout": "IPY_MODEL_2d10f71e80c045888bfc3ae4ee0592a6"
          }
        },
        "09990b936860461596dbbed34c02df9f": {
          "model_module": "@jupyter-widgets/controls",
          "model_name": "ProgressStyleModel",
          "state": {
            "_view_name": "StyleView",
            "_model_name": "ProgressStyleModel",
            "description_width": "initial",
            "_view_module": "@jupyter-widgets/base",
            "_model_module_version": "1.5.0",
            "_view_count": null,
            "_view_module_version": "1.2.0",
            "bar_color": null,
            "_model_module": "@jupyter-widgets/controls"
          }
        },
        "1ff2fba2c8c14800b41177cfa5441a91": {
          "model_module": "@jupyter-widgets/base",
          "model_name": "LayoutModel",
          "state": {
            "_view_name": "LayoutView",
            "grid_template_rows": null,
            "right": null,
            "justify_content": null,
            "_view_module": "@jupyter-widgets/base",
            "overflow": null,
            "_model_module_version": "1.2.0",
            "_view_count": null,
            "flex_flow": null,
            "width": null,
            "min_width": null,
            "border": null,
            "align_items": null,
            "bottom": null,
            "_model_module": "@jupyter-widgets/base",
            "top": null,
            "grid_column": null,
            "overflow_y": null,
            "overflow_x": null,
            "grid_auto_flow": null,
            "grid_area": null,
            "grid_template_columns": null,
            "flex": null,
            "_model_name": "LayoutModel",
            "justify_items": null,
            "grid_row": null,
            "max_height": null,
            "align_content": null,
            "visibility": null,
            "align_self": null,
            "height": null,
            "min_height": null,
            "padding": null,
            "grid_auto_rows": null,
            "grid_gap": null,
            "max_width": null,
            "order": null,
            "_view_module_version": "1.2.0",
            "grid_template_areas": null,
            "object_position": null,
            "object_fit": null,
            "grid_auto_columns": null,
            "margin": null,
            "display": null,
            "left": null
          }
        },
        "e374e44f94e648caacc780bdbb29b937": {
          "model_module": "@jupyter-widgets/controls",
          "model_name": "DescriptionStyleModel",
          "state": {
            "_view_name": "StyleView",
            "_model_name": "DescriptionStyleModel",
            "description_width": "",
            "_view_module": "@jupyter-widgets/base",
            "_model_module_version": "1.5.0",
            "_view_count": null,
            "_view_module_version": "1.2.0",
            "_model_module": "@jupyter-widgets/controls"
          }
        },
        "2d10f71e80c045888bfc3ae4ee0592a6": {
          "model_module": "@jupyter-widgets/base",
          "model_name": "LayoutModel",
          "state": {
            "_view_name": "LayoutView",
            "grid_template_rows": null,
            "right": null,
            "justify_content": null,
            "_view_module": "@jupyter-widgets/base",
            "overflow": null,
            "_model_module_version": "1.2.0",
            "_view_count": null,
            "flex_flow": null,
            "width": null,
            "min_width": null,
            "border": null,
            "align_items": null,
            "bottom": null,
            "_model_module": "@jupyter-widgets/base",
            "top": null,
            "grid_column": null,
            "overflow_y": null,
            "overflow_x": null,
            "grid_auto_flow": null,
            "grid_area": null,
            "grid_template_columns": null,
            "flex": null,
            "_model_name": "LayoutModel",
            "justify_items": null,
            "grid_row": null,
            "max_height": null,
            "align_content": null,
            "visibility": null,
            "align_self": null,
            "height": null,
            "min_height": null,
            "padding": null,
            "grid_auto_rows": null,
            "grid_gap": null,
            "max_width": null,
            "order": null,
            "_view_module_version": "1.2.0",
            "grid_template_areas": null,
            "object_position": null,
            "object_fit": null,
            "grid_auto_columns": null,
            "margin": null,
            "display": null,
            "left": null
          }
        }
      }
    }
  },
  "cells": [
    {
      "cell_type": "markdown",
      "metadata": {
        "id": "view-in-github",
        "colab_type": "text"
      },
      "source": [
        "<a href=\"https://colab.research.google.com/github/ReutFarkash/useful/blob/main/TensorFlow_Tutorial_14.ipynb\" target=\"_parent\"><img src=\"https://colab.research.google.com/assets/colab-badge.svg\" alt=\"Open In Colab\"/></a>"
      ]
    },
    {
      "cell_type": "markdown",
      "metadata": {
        "id": "R-JoYvEfctNx"
      },
      "source": [
        "[TensorFlow Tutorial 14 - Callbacks with Keras and Writing Custom Callbacks](https://www.youtube.com/watch?v=WUzLJZCKNu4&ab_channel=AladdinPersson)"
      ]
    },
    {
      "cell_type": "code",
      "metadata": {
        "id": "79eN2zUFci59"
      },
      "source": [
        "import tensorflow as tf\n",
        "from tensorflow import keras\n",
        "from tensorflow.keras import layers\n",
        "import tensorflow_datasets as tfds"
      ],
      "execution_count": 1,
      "outputs": []
    },
    {
      "cell_type": "code",
      "metadata": {
        "colab": {
          "base_uri": "https://localhost:8080/",
          "height": 228,
          "referenced_widgets": [
            "e345dc57e18443b8b454983f6cb37f38",
            "e135b8fc69b54c23a1af8c88753f08d5",
            "2d9517f727a340d7ba755659c7a3770f",
            "bb108b30917b40cf8b369bf426f0c14a",
            "09990b936860461596dbbed34c02df9f",
            "1ff2fba2c8c14800b41177cfa5441a91",
            "e374e44f94e648caacc780bdbb29b937",
            "2d10f71e80c045888bfc3ae4ee0592a6"
          ]
        },
        "id": "evrCQva324sk",
        "outputId": "be95790c-afe2-43d9-8f8e-4d007378205f"
      },
      "source": [
        "(ds_train, ds_test), ds_info = tfds.load(\n",
        "    \"mnist\",\n",
        "    split=[\"train\", \"test\"],\n",
        "    shuffle_files=True,\n",
        "    as_supervised=True, # will return tuple (img, label) otherwise dict\n",
        "    with_info=True, # able to get info about dataset\n",
        ")"
      ],
      "execution_count": 3,
      "outputs": [
        {
          "output_type": "stream",
          "text": [
            "\u001b[1mDownloading and preparing dataset mnist/3.0.1 (download: 11.06 MiB, generated: 21.00 MiB, total: 32.06 MiB) to /root/tensorflow_datasets/mnist/3.0.1...\u001b[0m\n"
          ],
          "name": "stdout"
        },
        {
          "output_type": "stream",
          "text": [
            "WARNING:absl:Dataset mnist is hosted on GCS. It will automatically be downloaded to your\n",
            "local data directory. If you'd instead prefer to read directly from our public\n",
            "GCS bucket (recommended if you're running on GCP), you can instead pass\n",
            "`try_gcs=True` to `tfds.load` or set `data_dir=gs://tfds-data/datasets`.\n",
            "\n"
          ],
          "name": "stderr"
        },
        {
          "output_type": "display_data",
          "data": {
            "application/vnd.jupyter.widget-view+json": {
              "model_id": "e345dc57e18443b8b454983f6cb37f38",
              "version_minor": 0,
              "version_major": 2
            },
            "text/plain": [
              "HBox(children=(FloatProgress(value=0.0, description='Dl Completed...', max=4.0, style=ProgressStyle(descriptio…"
            ]
          },
          "metadata": {
            "tags": []
          }
        },
        {
          "output_type": "stream",
          "text": [
            "\n",
            "\n",
            "\u001b[1mDataset mnist downloaded and prepared to /root/tensorflow_datasets/mnist/3.0.1. Subsequent calls will reuse this data.\u001b[0m\n"
          ],
          "name": "stdout"
        }
      ]
    },
    {
      "cell_type": "code",
      "metadata": {
        "id": "6l3w4r8X3ZQy"
      },
      "source": [
        "def normalize_img(image, label):\n",
        "  \"\"\"Normalizes images\"\"\"\n",
        "  return tf.cast(image, tf.float32) / 255.0, label"
      ],
      "execution_count": 4,
      "outputs": []
    },
    {
      "cell_type": "code",
      "metadata": {
        "id": "EQj7UFLm3uGl"
      },
      "source": [
        "AUTOTUNE = tf.data.experimental.AUTOTUNE\n",
        "BATCH_SIZE = 128\n",
        "\n",
        "# Setup for train dataset\n",
        "ds_train = ds_train.map(normalize_img, num_parallel_calls=AUTOTUNE)\n",
        "ds_train = ds_train.cache()\n",
        "ds_train = ds_train.shuffle(ds_info.splits[\"train\"].num_examples)\n",
        "ds_train = ds_train.batch(BATCH_SIZE)\n",
        "ds_train = ds_train.prefetch(AUTOTUNE)"
      ],
      "execution_count": 5,
      "outputs": []
    },
    {
      "cell_type": "code",
      "metadata": {
        "colab": {
          "base_uri": "https://localhost:8080/"
        },
        "id": "h9qdgK4J4bGF",
        "outputId": "e5bc9570-77c6-49a9-ab54-c1ce32858ab6"
      },
      "source": [
        "model = keras.Sequential(\n",
        "    [\n",
        "     keras.Input((28, 28, 1)),\n",
        "     layers.Conv2D(32, 3, activation=\"relu\"),\n",
        "     layers.Flatten(),\n",
        "     layers.Dense(10),\n",
        "    ]\n",
        ")\n",
        "\n",
        "save_callback = keras.callbacks.ModelCheckpoint(\n",
        "    'checkpoint/',\n",
        "    save_weights_only=True,\n",
        "    monitor='accuracy',\n",
        "    save_best_only=False,\n",
        ")\n",
        "\n",
        "model.compile(\n",
        "    loss=keras.losses.SparseCategoricalCrossentropy(from_logits=True),\n",
        "    optimizer=keras.optimizers.Adam(0.01),\n",
        "    metrics=[\"accuracy\"],\n",
        ")\n",
        "\n",
        "model.fit(ds_train, epochs=10, verbose=2, callbacks=[save_callback])"
      ],
      "execution_count": 6,
      "outputs": [
        {
          "output_type": "stream",
          "text": [
            "Epoch 1/10\n",
            "469/469 - 15s - loss: 0.1576 - accuracy: 0.9530\n",
            "Epoch 2/10\n",
            "469/469 - 15s - loss: 0.0574 - accuracy: 0.9827\n",
            "Epoch 3/10\n",
            "469/469 - 14s - loss: 0.0381 - accuracy: 0.9880\n",
            "Epoch 4/10\n",
            "469/469 - 14s - loss: 0.0269 - accuracy: 0.9909\n",
            "Epoch 5/10\n",
            "469/469 - 14s - loss: 0.0177 - accuracy: 0.9941\n",
            "Epoch 6/10\n",
            "469/469 - 15s - loss: 0.0163 - accuracy: 0.9945\n",
            "Epoch 7/10\n",
            "469/469 - 15s - loss: 0.0149 - accuracy: 0.9948\n",
            "Epoch 8/10\n",
            "469/469 - 15s - loss: 0.0150 - accuracy: 0.9949\n",
            "Epoch 9/10\n",
            "469/469 - 15s - loss: 0.0112 - accuracy: 0.9961\n",
            "Epoch 10/10\n",
            "469/469 - 15s - loss: 0.0075 - accuracy: 0.9976\n"
          ],
          "name": "stdout"
        },
        {
          "output_type": "execute_result",
          "data": {
            "text/plain": [
              "<tensorflow.python.keras.callbacks.History at 0x7f8192d13550>"
            ]
          },
          "metadata": {
            "tags": []
          },
          "execution_count": 6
        }
      ]
    },
    {
      "cell_type": "code",
      "metadata": {
        "colab": {
          "base_uri": "https://localhost:8080/"
        },
        "id": "0ABpI3xx5vGV",
        "outputId": "dfc6ac16-cc7e-4614-a063-c70f881513cd"
      },
      "source": [
        "def scheduler(epoch, lr):\n",
        "  if epoch < 2:\n",
        "    return lr\n",
        "  else:\n",
        "    return lr * 0.99\n",
        "\n",
        "lr_scheduler= keras.callbacks.LearningRateScheduler(scheduler, verbose=1)\n",
        "\n",
        "model.fit(ds_train, epochs=10, verbose=2, callbacks=[save_callback, lr_scheduler])"
      ],
      "execution_count": 7,
      "outputs": [
        {
          "output_type": "stream",
          "text": [
            "\n",
            "Epoch 00001: LearningRateScheduler reducing learning rate to 0.009999999776482582.\n",
            "Epoch 1/10\n",
            "469/469 - 15s - loss: 0.0083 - accuracy: 0.9973\n",
            "\n",
            "Epoch 00002: LearningRateScheduler reducing learning rate to 0.009999999776482582.\n",
            "Epoch 2/10\n",
            "469/469 - 15s - loss: 0.0102 - accuracy: 0.9967\n",
            "\n",
            "Epoch 00003: LearningRateScheduler reducing learning rate to 0.009899999778717757.\n",
            "Epoch 3/10\n",
            "469/469 - 15s - loss: 0.0152 - accuracy: 0.9949\n",
            "\n",
            "Epoch 00004: LearningRateScheduler reducing learning rate to 0.009800999946892262.\n",
            "Epoch 4/10\n",
            "469/469 - 15s - loss: 0.0077 - accuracy: 0.9974\n",
            "\n",
            "Epoch 00005: LearningRateScheduler reducing learning rate to 0.009702990353107453.\n",
            "Epoch 5/10\n",
            "469/469 - 15s - loss: 0.0092 - accuracy: 0.9970\n",
            "\n",
            "Epoch 00006: LearningRateScheduler reducing learning rate to 0.009605960855260491.\n",
            "Epoch 6/10\n",
            "469/469 - 15s - loss: 0.0058 - accuracy: 0.9984\n",
            "\n",
            "Epoch 00007: LearningRateScheduler reducing learning rate to 0.00950990131124854.\n",
            "Epoch 7/10\n",
            "469/469 - 15s - loss: 0.0071 - accuracy: 0.9978\n",
            "\n",
            "Epoch 00008: LearningRateScheduler reducing learning rate to 0.009414802500978111.\n",
            "Epoch 8/10\n",
            "469/469 - 15s - loss: 0.0059 - accuracy: 0.9980\n",
            "\n",
            "Epoch 00009: LearningRateScheduler reducing learning rate to 0.009320654282346368.\n",
            "Epoch 9/10\n",
            "469/469 - 15s - loss: 0.0049 - accuracy: 0.9985\n",
            "\n",
            "Epoch 00010: LearningRateScheduler reducing learning rate to 0.00922744743525982.\n",
            "Epoch 10/10\n",
            "469/469 - 15s - loss: 0.0068 - accuracy: 0.9978\n"
          ],
          "name": "stdout"
        },
        {
          "output_type": "execute_result",
          "data": {
            "text/plain": [
              "<tensorflow.python.keras.callbacks.History at 0x7f8192d98b70>"
            ]
          },
          "metadata": {
            "tags": []
          },
          "execution_count": 7
        }
      ]
    },
    {
      "cell_type": "code",
      "metadata": {
        "colab": {
          "base_uri": "https://localhost:8080/"
        },
        "id": "IHRrsi4A6UiF",
        "outputId": "3d7ae8d9-31a2-4ff3-e006-837b7bd001e0"
      },
      "source": [
        "class CustomCallback(keras.callbacks.Callback):\n",
        "  def on_epoch_end(self, epoch, logs=None):\n",
        "    print(logs.keys)\n",
        "\n",
        "model.fit(ds_train, epochs=10, verbose=2, callbacks=[save_callback, lr_scheduler, CustomCallback()])"
      ],
      "execution_count": 9,
      "outputs": [
        {
          "output_type": "stream",
          "text": [
            "\n",
            "Epoch 00001: LearningRateScheduler reducing learning rate to 0.009227447211742401.\n",
            "Epoch 1/10\n",
            "<built-in method keys of dict object at 0x7f8194988048>\n",
            "469/469 - 15s - loss: 0.0043 - accuracy: 0.9988\n",
            "\n",
            "Epoch 00002: LearningRateScheduler reducing learning rate to 0.009227447211742401.\n",
            "Epoch 2/10\n",
            "<built-in method keys of dict object at 0x7f81948a4480>\n",
            "469/469 - 15s - loss: 0.0035 - accuracy: 0.9988\n",
            "\n",
            "Epoch 00003: LearningRateScheduler reducing learning rate to 0.009135172739624976.\n",
            "Epoch 3/10\n",
            "<built-in method keys of dict object at 0x7f8194988048>\n",
            "469/469 - 15s - loss: 0.0073 - accuracy: 0.9979\n",
            "\n",
            "Epoch 00004: LearningRateScheduler reducing learning rate to 0.009043820975348353.\n",
            "Epoch 4/10\n",
            "<built-in method keys of dict object at 0x7f8192d41120>\n",
            "469/469 - 15s - loss: 0.0063 - accuracy: 0.9980\n",
            "\n",
            "Epoch 00005: LearningRateScheduler reducing learning rate to 0.008953382922336458.\n",
            "Epoch 5/10\n",
            "<built-in method keys of dict object at 0x7f8194988d80>\n",
            "469/469 - 15s - loss: 0.0048 - accuracy: 0.9987\n",
            "\n",
            "Epoch 00006: LearningRateScheduler reducing learning rate to 0.008863849360495805.\n",
            "Epoch 6/10\n",
            "<built-in method keys of dict object at 0x7f81948a4b40>\n",
            "469/469 - 15s - loss: 0.0064 - accuracy: 0.9984\n",
            "\n",
            "Epoch 00007: LearningRateScheduler reducing learning rate to 0.008775211069732905.\n",
            "Epoch 7/10\n",
            "<built-in method keys of dict object at 0x7f8194866288>\n",
            "469/469 - 14s - loss: 0.0030 - accuracy: 0.9992\n",
            "\n",
            "Epoch 00008: LearningRateScheduler reducing learning rate to 0.008687458829954267.\n",
            "Epoch 8/10\n",
            "<built-in method keys of dict object at 0x7f8194988bd0>\n",
            "469/469 - 15s - loss: 0.0020 - accuracy: 0.9995\n",
            "\n",
            "Epoch 00009: LearningRateScheduler reducing learning rate to 0.008600584343075751.\n",
            "Epoch 9/10\n",
            "<built-in method keys of dict object at 0x7f81949fd318>\n",
            "469/469 - 14s - loss: 0.0024 - accuracy: 0.9994\n",
            "\n",
            "Epoch 00010: LearningRateScheduler reducing learning rate to 0.008514578389003873.\n",
            "Epoch 10/10\n",
            "<built-in method keys of dict object at 0x7f81948a4b88>\n",
            "469/469 - 14s - loss: 0.0035 - accuracy: 0.9989\n"
          ],
          "name": "stdout"
        },
        {
          "output_type": "execute_result",
          "data": {
            "text/plain": [
              "<tensorflow.python.keras.callbacks.History at 0x7f8192c0de48>"
            ]
          },
          "metadata": {
            "tags": []
          },
          "execution_count": 9
        }
      ]
    },
    {
      "cell_type": "code",
      "metadata": {
        "colab": {
          "base_uri": "https://localhost:8080/"
        },
        "id": "MQRbOFCK6uTP",
        "outputId": "17768a0d-b8b8-4e5e-ff37-fe0fb275d538"
      },
      "source": [
        "class CustomCallback(keras.callbacks.Callback):\n",
        "  def on_epoch_end(self, epoch, logs=None):\n",
        "    if logs.get(\"accuracy\") > 0.90:\n",
        "      print(\"Accuracy over 90%, quitting training\")\n",
        "      self.model.stop_training = True\n",
        "\n",
        "model.fit(ds_train, epochs=10, verbose=2, callbacks=[save_callback, lr_scheduler, CustomCallback()])"
      ],
      "execution_count": 10,
      "outputs": [
        {
          "output_type": "stream",
          "text": [
            "\n",
            "Epoch 00001: LearningRateScheduler reducing learning rate to 0.008514578454196453.\n",
            "Epoch 1/10\n",
            "Accuracy over 90%, quitting training\n",
            "469/469 - 15s - loss: 0.0096 - accuracy: 0.9978\n"
          ],
          "name": "stdout"
        },
        {
          "output_type": "execute_result",
          "data": {
            "text/plain": [
              "<tensorflow.python.keras.callbacks.History at 0x7f8192daeb00>"
            ]
          },
          "metadata": {
            "tags": []
          },
          "execution_count": 10
        }
      ]
    },
    {
      "cell_type": "code",
      "metadata": {
        "id": "KOhRl3Sa7WCE"
      },
      "source": [
        ""
      ],
      "execution_count": null,
      "outputs": []
    }
  ]
}