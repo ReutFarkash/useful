{
  "nbformat": 4,
  "nbformat_minor": 0,
  "metadata": {
    "colab": {
      "name": "tensorflow",
      "provenance": [],
      "authorship_tag": "ABX9TyMbsIZ458QA88El98UhRi2N",
      "include_colab_link": true
    },
    "kernelspec": {
      "name": "python3",
      "display_name": "Python 3"
    }
  },
  "cells": [
    {
      "cell_type": "markdown",
      "metadata": {
        "id": "view-in-github",
        "colab_type": "text"
      },
      "source": [
        "<a href=\"https://colab.research.google.com/github/ReutFarkash/useful/blob/main/tensorflow.ipynb\" target=\"_parent\"><img src=\"https://colab.research.google.com/assets/colab-badge.svg\" alt=\"Open In Colab\"/></a>"
      ]
    },
    {
      "cell_type": "markdown",
      "metadata": {
        "id": "9pV6HkjROOgc"
      },
      "source": [
        "Source: TensorFlow 2.0 Beginner Tutorials<br>\n",
        "[TensorFlow Tutorial 2 - Tensor Basics](https://www.youtube.com/watch?v=HPjBY1H-U4U&list=PLhhyoLH6IjfxVOdVC1P1L5z5azs0XjMsb&index=2&ab_channel=AladdinPersson)"
      ]
    },
    {
      "cell_type": "code",
      "metadata": {
        "id": "KWerL8XWOFMY"
      },
      "source": [
        "import tensorflow as tf"
      ],
      "execution_count": 1,
      "outputs": []
    },
    {
      "cell_type": "code",
      "metadata": {
        "id": "-m3cDqPlOlUl",
        "outputId": "fb5a0752-da2f-4762-8edc-9fe3f1abd3db",
        "colab": {
          "base_uri": "https://localhost:8080/"
        }
      },
      "source": [
        "# Initialization of Tensor\n",
        "tf.constant(4, shape=(1,1), dtype=tf.float32)"
      ],
      "execution_count": 2,
      "outputs": [
        {
          "output_type": "execute_result",
          "data": {
            "text/plain": [
              "<tf.Tensor: shape=(1, 1), dtype=float32, numpy=array([[4.]], dtype=float32)>"
            ]
          },
          "metadata": {
            "tags": []
          },
          "execution_count": 2
        }
      ]
    },
    {
      "cell_type": "code",
      "metadata": {
        "id": "zF5tJNPTQCbP",
        "outputId": "6474c85a-9213-454a-835b-acf07ad675ed",
        "colab": {
          "base_uri": "https://localhost:8080/"
        }
      },
      "source": [
        "tf.constant([[1,2,3],[4,5,6]])"
      ],
      "execution_count": 3,
      "outputs": [
        {
          "output_type": "execute_result",
          "data": {
            "text/plain": [
              "<tf.Tensor: shape=(2, 3), dtype=int32, numpy=\n",
              "array([[1, 2, 3],\n",
              "       [4, 5, 6]], dtype=int32)>"
            ]
          },
          "metadata": {
            "tags": []
          },
          "execution_count": 3
        }
      ]
    },
    {
      "cell_type": "code",
      "metadata": {
        "id": "9_A4L7URQFMN",
        "outputId": "ff372680-eb34-4e4f-c5da-4f025f09cc02",
        "colab": {
          "base_uri": "https://localhost:8080/"
        }
      },
      "source": [
        "tf.ones((3,3))"
      ],
      "execution_count": 4,
      "outputs": [
        {
          "output_type": "execute_result",
          "data": {
            "text/plain": [
              "<tf.Tensor: shape=(3, 3), dtype=float32, numpy=\n",
              "array([[1., 1., 1.],\n",
              "       [1., 1., 1.],\n",
              "       [1., 1., 1.]], dtype=float32)>"
            ]
          },
          "metadata": {
            "tags": []
          },
          "execution_count": 4
        }
      ]
    },
    {
      "cell_type": "code",
      "metadata": {
        "id": "lCsnFNy0QGom",
        "outputId": "f0fa4b4c-4fc7-4aba-832b-8f189e643d43",
        "colab": {
          "base_uri": "https://localhost:8080/"
        }
      },
      "source": [
        "tf.zeros((2,3))"
      ],
      "execution_count": 5,
      "outputs": [
        {
          "output_type": "execute_result",
          "data": {
            "text/plain": [
              "<tf.Tensor: shape=(2, 3), dtype=float32, numpy=\n",
              "array([[0., 0., 0.],\n",
              "       [0., 0., 0.]], dtype=float32)>"
            ]
          },
          "metadata": {
            "tags": []
          },
          "execution_count": 5
        }
      ]
    },
    {
      "cell_type": "code",
      "metadata": {
        "id": "_49waefXQWtm",
        "outputId": "cce09dbf-60df-4817-e92b-2e80467ce69e",
        "colab": {
          "base_uri": "https://localhost:8080/"
        }
      },
      "source": [
        "tf.eye(3)"
      ],
      "execution_count": 6,
      "outputs": [
        {
          "output_type": "execute_result",
          "data": {
            "text/plain": [
              "<tf.Tensor: shape=(3, 3), dtype=float32, numpy=\n",
              "array([[1., 0., 0.],\n",
              "       [0., 1., 0.],\n",
              "       [0., 0., 1.]], dtype=float32)>"
            ]
          },
          "metadata": {
            "tags": []
          },
          "execution_count": 6
        }
      ]
    },
    {
      "cell_type": "code",
      "metadata": {
        "id": "rgG2Ljt-QY9B",
        "outputId": "14f220a9-8736-4320-fa6f-5df1af21219b",
        "colab": {
          "base_uri": "https://localhost:8080/"
        }
      },
      "source": [
        "tf.random.normal((3,3), mean=0, stddev=1)"
      ],
      "execution_count": 7,
      "outputs": [
        {
          "output_type": "execute_result",
          "data": {
            "text/plain": [
              "<tf.Tensor: shape=(3, 3), dtype=float32, numpy=\n",
              "array([[ 0.2150996 ,  0.8798822 ,  0.35310468],\n",
              "       [ 0.9684783 , -1.9498274 , -0.70033073],\n",
              "       [-1.6843494 ,  0.83042365, -1.8962411 ]], dtype=float32)>"
            ]
          },
          "metadata": {
            "tags": []
          },
          "execution_count": 7
        }
      ]
    },
    {
      "cell_type": "code",
      "metadata": {
        "id": "17DeRd-uQltD",
        "outputId": "55b99e09-5797-4e5c-aa3d-2db3cfe8ff16",
        "colab": {
          "base_uri": "https://localhost:8080/"
        }
      },
      "source": [
        "tf.random.uniform((1,3), minval=0, maxval=1)"
      ],
      "execution_count": 8,
      "outputs": [
        {
          "output_type": "execute_result",
          "data": {
            "text/plain": [
              "<tf.Tensor: shape=(1, 3), dtype=float32, numpy=array([[0.5709326 , 0.22735393, 0.94142234]], dtype=float32)>"
            ]
          },
          "metadata": {
            "tags": []
          },
          "execution_count": 8
        }
      ]
    },
    {
      "cell_type": "code",
      "metadata": {
        "id": "HmbvDhPRQtQ0",
        "outputId": "7854d808-292a-48b6-b85b-7f4ac347c5fe",
        "colab": {
          "base_uri": "https://localhost:8080/"
        }
      },
      "source": [
        "tf.range(9)"
      ],
      "execution_count": 9,
      "outputs": [
        {
          "output_type": "execute_result",
          "data": {
            "text/plain": [
              "<tf.Tensor: shape=(9,), dtype=int32, numpy=array([0, 1, 2, 3, 4, 5, 6, 7, 8], dtype=int32)>"
            ]
          },
          "metadata": {
            "tags": []
          },
          "execution_count": 9
        }
      ]
    },
    {
      "cell_type": "code",
      "metadata": {
        "id": "-Z4FrHipQ0Up",
        "outputId": "54bb351d-105d-412e-eef8-dac08467beab",
        "colab": {
          "base_uri": "https://localhost:8080/"
        }
      },
      "source": [
        "tf.range(start=1, limit=10, delta=2)"
      ],
      "execution_count": 10,
      "outputs": [
        {
          "output_type": "execute_result",
          "data": {
            "text/plain": [
              "<tf.Tensor: shape=(5,), dtype=int32, numpy=array([1, 3, 5, 7, 9], dtype=int32)>"
            ]
          },
          "metadata": {
            "tags": []
          },
          "execution_count": 10
        }
      ]
    },
    {
      "cell_type": "code",
      "metadata": {
        "id": "KZKPiaDnRAhz",
        "outputId": "7f3e3aa7-59f5-4d19-e2c5-9b192832ed2a",
        "colab": {
          "base_uri": "https://localhost:8080/"
        }
      },
      "source": [
        "x = tf.range(start=1, limit=10, delta=2)\n",
        "tf.cast(x, dtype=tf.float64) # tf.float (16,32,64), tf.int (8,16,32,64), tf.bool"
      ],
      "execution_count": 11,
      "outputs": [
        {
          "output_type": "execute_result",
          "data": {
            "text/plain": [
              "<tf.Tensor: shape=(5,), dtype=float64, numpy=array([1., 3., 5., 7., 9.])>"
            ]
          },
          "metadata": {
            "tags": []
          },
          "execution_count": 11
        }
      ]
    },
    {
      "cell_type": "code",
      "metadata": {
        "id": "2EGC93rQPRGO",
        "outputId": "5a02b1ef-4859-44c3-dffc-951e3ac300fc",
        "colab": {
          "base_uri": "https://localhost:8080/"
        }
      },
      "source": [
        "# Mathamatical Operations\n",
        "x = tf.constant([1,2,3])\n",
        "y = tf.constant([9,8,7])\n",
        "\n",
        "z = tf.add(x,y) # equivalent: z = x + y \n",
        "print(z)"
      ],
      "execution_count": 12,
      "outputs": [
        {
          "output_type": "stream",
          "text": [
            "tf.Tensor([10 10 10], shape=(3,), dtype=int32)\n"
          ],
          "name": "stdout"
        }
      ]
    },
    {
      "cell_type": "code",
      "metadata": {
        "id": "sLuDXHa2R1bX",
        "outputId": "3c51eb6e-8a8b-4c2d-ec48-9a97f82ac91e",
        "colab": {
          "base_uri": "https://localhost:8080/"
        }
      },
      "source": [
        "z = tf.add(x,y) # equivalent: z = x + y \n",
        "print(z)"
      ],
      "execution_count": 13,
      "outputs": [
        {
          "output_type": "stream",
          "text": [
            "tf.Tensor([10 10 10], shape=(3,), dtype=int32)\n"
          ],
          "name": "stdout"
        }
      ]
    },
    {
      "cell_type": "code",
      "metadata": {
        "id": "jZQZxhNER55E",
        "outputId": "a1ae21f5-4a05-4cc8-d997-f094189f67b9",
        "colab": {
          "base_uri": "https://localhost:8080/"
        }
      },
      "source": [
        "z = tf.subtract(x,y) # equivalent: z = x - y \n",
        "print(z)"
      ],
      "execution_count": 14,
      "outputs": [
        {
          "output_type": "stream",
          "text": [
            "tf.Tensor([-8 -6 -4], shape=(3,), dtype=int32)\n"
          ],
          "name": "stdout"
        }
      ]
    },
    {
      "cell_type": "code",
      "metadata": {
        "id": "0iZWCIq5R5v-",
        "outputId": "42bc5e26-26ac-4e78-9a48-ed3b3af23a4c",
        "colab": {
          "base_uri": "https://localhost:8080/"
        }
      },
      "source": [
        "z = tf.divide(x,y) # equivalent: z = x / y \n",
        "print(z)"
      ],
      "execution_count": 15,
      "outputs": [
        {
          "output_type": "stream",
          "text": [
            "tf.Tensor([0.11111111 0.25       0.42857143], shape=(3,), dtype=float64)\n"
          ],
          "name": "stdout"
        }
      ]
    },
    {
      "cell_type": "code",
      "metadata": {
        "id": "dryCTikIR5lf",
        "outputId": "c882e231-251c-40b6-da16-41e5f549ae2e",
        "colab": {
          "base_uri": "https://localhost:8080/"
        }
      },
      "source": [
        "z = tf.multiply(x,y) # equivalent: z = x * y \n",
        "print(z)"
      ],
      "execution_count": 16,
      "outputs": [
        {
          "output_type": "stream",
          "text": [
            "tf.Tensor([ 9 16 21], shape=(3,), dtype=int32)\n"
          ],
          "name": "stdout"
        }
      ]
    },
    {
      "cell_type": "code",
      "metadata": {
        "id": "KyFiHQijR5Zg",
        "outputId": "95bd447d-d455-40aa-92c2-db07b1309a3f",
        "colab": {
          "base_uri": "https://localhost:8080/"
        }
      },
      "source": [
        "z = tf.tensordot(x, y, axes=1)\n",
        "print(z)"
      ],
      "execution_count": 17,
      "outputs": [
        {
          "output_type": "stream",
          "text": [
            "tf.Tensor(46, shape=(), dtype=int32)\n"
          ],
          "name": "stdout"
        }
      ]
    },
    {
      "cell_type": "code",
      "metadata": {
        "id": "2xSAYfHHR5Gd",
        "outputId": "40441d30-77d5-4224-b29b-f7cd9fab8622",
        "colab": {
          "base_uri": "https://localhost:8080/"
        }
      },
      "source": [
        "z = tf.reduce_sum(x*y, axis=0)\n",
        "print(z)"
      ],
      "execution_count": 18,
      "outputs": [
        {
          "output_type": "stream",
          "text": [
            "tf.Tensor(46, shape=(), dtype=int32)\n"
          ],
          "name": "stdout"
        }
      ]
    },
    {
      "cell_type": "code",
      "metadata": {
        "id": "AeIKvVz5ez3J",
        "outputId": "0cc5ab87-4ca0-4bdc-d139-3e4edd788580",
        "colab": {
          "base_uri": "https://localhost:8080/"
        }
      },
      "source": [
        "z = x ** 5 # elementwise exponantiation\n",
        "print(z)"
      ],
      "execution_count": 19,
      "outputs": [
        {
          "output_type": "stream",
          "text": [
            "tf.Tensor([  1  32 243], shape=(3,), dtype=int32)\n"
          ],
          "name": "stdout"
        }
      ]
    },
    {
      "cell_type": "code",
      "metadata": {
        "id": "QiNc6qGtfEB7",
        "outputId": "1087829b-4344-4a5d-e4ed-4f3c49ffd869",
        "colab": {
          "base_uri": "https://localhost:8080/"
        }
      },
      "source": [
        "x = tf.random.normal((2, 3))\n",
        "y = tf.random.normal((3, 4))\n",
        "z = tf.matmul(x, y)\n",
        "print(z)"
      ],
      "execution_count": 20,
      "outputs": [
        {
          "output_type": "stream",
          "text": [
            "tf.Tensor(\n",
            "[[-0.199386    0.16229606 -0.45538113 -0.26827267]\n",
            " [ 0.1597434   0.15499228 -0.11297336 -0.14542769]], shape=(2, 4), dtype=float32)\n"
          ],
          "name": "stdout"
        }
      ]
    },
    {
      "cell_type": "code",
      "metadata": {
        "id": "rLOyDXIQfRk-",
        "outputId": "526a52cb-b00a-41b6-a31b-e6125127d2ef",
        "colab": {
          "base_uri": "https://localhost:8080/"
        }
      },
      "source": [
        "z = x @ y\n",
        "print(z)"
      ],
      "execution_count": 21,
      "outputs": [
        {
          "output_type": "stream",
          "text": [
            "tf.Tensor(\n",
            "[[-0.199386    0.16229606 -0.45538113 -0.26827267]\n",
            " [ 0.1597434   0.15499228 -0.11297336 -0.14542769]], shape=(2, 4), dtype=float32)\n"
          ],
          "name": "stdout"
        }
      ]
    },
    {
      "cell_type": "code",
      "metadata": {
        "id": "cASECuj2PRDO",
        "outputId": "9a9508fc-6bfd-4e41-e512-c11c9cfcb1da",
        "colab": {
          "base_uri": "https://localhost:8080/"
        }
      },
      "source": [
        "# Indexing\n",
        "x = tf.constant([0, 1, 1, 2, 3, 1, 2, 3])\n",
        "print(x[:])"
      ],
      "execution_count": 22,
      "outputs": [
        {
          "output_type": "stream",
          "text": [
            "tf.Tensor([0 1 1 2 3 1 2 3], shape=(8,), dtype=int32)\n"
          ],
          "name": "stdout"
        }
      ]
    },
    {
      "cell_type": "code",
      "metadata": {
        "id": "WbnxDWWiPQ8j",
        "outputId": "2cade0b4-d1e3-4b44-ee04-42116c946e4e",
        "colab": {
          "base_uri": "https://localhost:8080/"
        }
      },
      "source": [
        "print(x[1:])"
      ],
      "execution_count": 23,
      "outputs": [
        {
          "output_type": "stream",
          "text": [
            "tf.Tensor([1 1 2 3 1 2 3], shape=(7,), dtype=int32)\n"
          ],
          "name": "stdout"
        }
      ]
    },
    {
      "cell_type": "code",
      "metadata": {
        "id": "UEGE6dKOfnts",
        "outputId": "843df74c-31ba-4226-f6ca-07a6b3f246b7",
        "colab": {
          "base_uri": "https://localhost:8080/"
        }
      },
      "source": [
        "print(x[1:3])"
      ],
      "execution_count": 24,
      "outputs": [
        {
          "output_type": "stream",
          "text": [
            "tf.Tensor([1 1], shape=(2,), dtype=int32)\n"
          ],
          "name": "stdout"
        }
      ]
    },
    {
      "cell_type": "code",
      "metadata": {
        "id": "sXDR3VbffrqJ",
        "outputId": "9dce882e-3d36-4942-d333-ee2aa17c116b",
        "colab": {
          "base_uri": "https://localhost:8080/"
        }
      },
      "source": [
        "print(x[::2])"
      ],
      "execution_count": 25,
      "outputs": [
        {
          "output_type": "stream",
          "text": [
            "tf.Tensor([0 1 3 2], shape=(4,), dtype=int32)\n"
          ],
          "name": "stdout"
        }
      ]
    },
    {
      "cell_type": "code",
      "metadata": {
        "id": "WG36IMxoft1L",
        "outputId": "144b2247-0362-417e-8743-ff49e603eed2",
        "colab": {
          "base_uri": "https://localhost:8080/"
        }
      },
      "source": [
        "print(x[::-1])"
      ],
      "execution_count": 26,
      "outputs": [
        {
          "output_type": "stream",
          "text": [
            "tf.Tensor([3 2 1 3 2 1 1 0], shape=(8,), dtype=int32)\n"
          ],
          "name": "stdout"
        }
      ]
    },
    {
      "cell_type": "code",
      "metadata": {
        "id": "XfwLGM81fw9A",
        "outputId": "a6230f7d-5a4b-49af-9768-0f2c481c95d2",
        "colab": {
          "base_uri": "https://localhost:8080/"
        }
      },
      "source": [
        "indices = tf.constant([0, 3])\n",
        "x_ind = tf.gather(x, indices)\n",
        "print(x_ind)"
      ],
      "execution_count": 27,
      "outputs": [
        {
          "output_type": "stream",
          "text": [
            "tf.Tensor([0 2], shape=(2,), dtype=int32)\n"
          ],
          "name": "stdout"
        }
      ]
    },
    {
      "cell_type": "code",
      "metadata": {
        "id": "zYjoAVIOf3s8",
        "outputId": "18248f54-fd2b-4ccf-e7dc-19d47dc98887",
        "colab": {
          "base_uri": "https://localhost:8080/"
        }
      },
      "source": [
        "x = tf.constant([[1, 2],\n",
        "                 [3, 4],\n",
        "                 [5, 6]])\n",
        "print(x[0,:])"
      ],
      "execution_count": 28,
      "outputs": [
        {
          "output_type": "stream",
          "text": [
            "tf.Tensor([1 2], shape=(2,), dtype=int32)\n"
          ],
          "name": "stdout"
        }
      ]
    },
    {
      "cell_type": "code",
      "metadata": {
        "id": "HFrQQsZkgSnB",
        "outputId": "dc50ae86-9df8-44d0-93b4-65c11ae313dc",
        "colab": {
          "base_uri": "https://localhost:8080/"
        }
      },
      "source": [
        "print(x[0:2,:])"
      ],
      "execution_count": 29,
      "outputs": [
        {
          "output_type": "stream",
          "text": [
            "tf.Tensor(\n",
            "[[1 2]\n",
            " [3 4]], shape=(2, 2), dtype=int32)\n"
          ],
          "name": "stdout"
        }
      ]
    },
    {
      "cell_type": "code",
      "metadata": {
        "id": "VwXPEq3Ygad3",
        "outputId": "26a9c8a4-176c-4856-96c6-2c151d715b4a",
        "colab": {
          "base_uri": "https://localhost:8080/"
        }
      },
      "source": [
        "# Reshaping\n",
        "x = tf.range(9)\n",
        "print(x)"
      ],
      "execution_count": 30,
      "outputs": [
        {
          "output_type": "stream",
          "text": [
            "tf.Tensor([0 1 2 3 4 5 6 7 8], shape=(9,), dtype=int32)\n"
          ],
          "name": "stdout"
        }
      ]
    },
    {
      "cell_type": "code",
      "metadata": {
        "id": "XK_1mnv5glcl",
        "outputId": "572368b8-29c7-4989-9cad-bbb21107df69",
        "colab": {
          "base_uri": "https://localhost:8080/"
        }
      },
      "source": [
        "x = tf.reshape(x, (3,3))\n",
        "print(x)"
      ],
      "execution_count": 31,
      "outputs": [
        {
          "output_type": "stream",
          "text": [
            "tf.Tensor(\n",
            "[[0 1 2]\n",
            " [3 4 5]\n",
            " [6 7 8]], shape=(3, 3), dtype=int32)\n"
          ],
          "name": "stdout"
        }
      ]
    },
    {
      "cell_type": "code",
      "metadata": {
        "id": "9n3axoXdgqWf",
        "outputId": "0e48dc43-e64e-4221-d697-820584757a60",
        "colab": {
          "base_uri": "https://localhost:8080/"
        }
      },
      "source": [
        "x = tf.transpose(x, perm=[1,0])\n",
        "print(x)"
      ],
      "execution_count": 32,
      "outputs": [
        {
          "output_type": "stream",
          "text": [
            "tf.Tensor(\n",
            "[[0 3 6]\n",
            " [1 4 7]\n",
            " [2 5 8]], shape=(3, 3), dtype=int32)\n"
          ],
          "name": "stdout"
        }
      ]
    },
    {
      "cell_type": "code",
      "metadata": {
        "id": "okUYKDu3gzAj"
      },
      "source": [
        ""
      ],
      "execution_count": 32,
      "outputs": []
    }
  ]
}