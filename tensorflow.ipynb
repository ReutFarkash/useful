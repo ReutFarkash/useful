{
  "nbformat": 4,
  "nbformat_minor": 0,
  "metadata": {
    "colab": {
      "name": "tensorflow",
      "provenance": [],
      "authorship_tag": "ABX9TyNH8hic49LpJoL4wZv6jHK/",
      "include_colab_link": true
    },
    "kernelspec": {
      "name": "python3",
      "display_name": "Python 3"
    },
    "accelerator": "GPU"
  },
  "cells": [
    {
      "cell_type": "markdown",
      "metadata": {
        "id": "view-in-github",
        "colab_type": "text"
      },
      "source": [
        "<a href=\"https://colab.research.google.com/github/ReutFarkash/useful/blob/main/tensorflow.ipynb\" target=\"_parent\"><img src=\"https://colab.research.google.com/assets/colab-badge.svg\" alt=\"Open In Colab\"/></a>"
      ]
    },
    {
      "cell_type": "markdown",
      "metadata": {
        "id": "9pV6HkjROOgc"
      },
      "source": [
        "Source: TensorFlow 2.0 Beginner Tutorials<br>\n",
        "[TensorFlow Tutorial 2 - Tensor Basics](https://www.youtube.com/watch?v=HPjBY1H-U4U&list=PLhhyoLH6IjfxVOdVC1P1L5z5azs0XjMsb&index=2&ab_channel=AladdinPersson)"
      ]
    },
    {
      "cell_type": "code",
      "metadata": {
        "id": "KWerL8XWOFMY"
      },
      "source": [
        "import tensorflow as tf"
      ],
      "execution_count": 1,
      "outputs": []
    },
    {
      "cell_type": "code",
      "metadata": {
        "id": "-m3cDqPlOlUl",
        "outputId": "f73fa062-5413-466d-813b-a837936f1131",
        "colab": {
          "base_uri": "https://localhost:8080/"
        }
      },
      "source": [
        "# Initialization of Tensor\n",
        "tf.constant(4, shape=(1,1), dtype=tf.float32)"
      ],
      "execution_count": 2,
      "outputs": [
        {
          "output_type": "execute_result",
          "data": {
            "text/plain": [
              "<tf.Tensor: shape=(1, 1), dtype=float32, numpy=array([[4.]], dtype=float32)>"
            ]
          },
          "metadata": {
            "tags": []
          },
          "execution_count": 2
        }
      ]
    },
    {
      "cell_type": "code",
      "metadata": {
        "id": "zF5tJNPTQCbP",
        "outputId": "1ab15604-aa33-425c-90c0-b3b85214ee11",
        "colab": {
          "base_uri": "https://localhost:8080/"
        }
      },
      "source": [
        "tf.constant([[1,2,3],[4,5,6]])"
      ],
      "execution_count": 3,
      "outputs": [
        {
          "output_type": "execute_result",
          "data": {
            "text/plain": [
              "<tf.Tensor: shape=(2, 3), dtype=int32, numpy=\n",
              "array([[1, 2, 3],\n",
              "       [4, 5, 6]], dtype=int32)>"
            ]
          },
          "metadata": {
            "tags": []
          },
          "execution_count": 3
        }
      ]
    },
    {
      "cell_type": "code",
      "metadata": {
        "id": "9_A4L7URQFMN",
        "outputId": "33e29c76-3411-424a-d4fa-dd39d29289b6",
        "colab": {
          "base_uri": "https://localhost:8080/"
        }
      },
      "source": [
        "tf.ones((3,3))"
      ],
      "execution_count": 4,
      "outputs": [
        {
          "output_type": "execute_result",
          "data": {
            "text/plain": [
              "<tf.Tensor: shape=(3, 3), dtype=float32, numpy=\n",
              "array([[1., 1., 1.],\n",
              "       [1., 1., 1.],\n",
              "       [1., 1., 1.]], dtype=float32)>"
            ]
          },
          "metadata": {
            "tags": []
          },
          "execution_count": 4
        }
      ]
    },
    {
      "cell_type": "code",
      "metadata": {
        "id": "lCsnFNy0QGom",
        "outputId": "2b81085a-5613-4c2b-9f9d-b0347356116b",
        "colab": {
          "base_uri": "https://localhost:8080/"
        }
      },
      "source": [
        "tf.zeros((2,3))"
      ],
      "execution_count": 5,
      "outputs": [
        {
          "output_type": "execute_result",
          "data": {
            "text/plain": [
              "<tf.Tensor: shape=(2, 3), dtype=float32, numpy=\n",
              "array([[0., 0., 0.],\n",
              "       [0., 0., 0.]], dtype=float32)>"
            ]
          },
          "metadata": {
            "tags": []
          },
          "execution_count": 5
        }
      ]
    },
    {
      "cell_type": "code",
      "metadata": {
        "id": "_49waefXQWtm",
        "outputId": "e7c19de5-ad02-4123-ac39-97f758bdeba4",
        "colab": {
          "base_uri": "https://localhost:8080/"
        }
      },
      "source": [
        "tf.eye(3)"
      ],
      "execution_count": 6,
      "outputs": [
        {
          "output_type": "execute_result",
          "data": {
            "text/plain": [
              "<tf.Tensor: shape=(3, 3), dtype=float32, numpy=\n",
              "array([[1., 0., 0.],\n",
              "       [0., 1., 0.],\n",
              "       [0., 0., 1.]], dtype=float32)>"
            ]
          },
          "metadata": {
            "tags": []
          },
          "execution_count": 6
        }
      ]
    },
    {
      "cell_type": "code",
      "metadata": {
        "id": "rgG2Ljt-QY9B",
        "outputId": "49fa5b87-63fc-4ba1-9581-7dcac8712f61",
        "colab": {
          "base_uri": "https://localhost:8080/"
        }
      },
      "source": [
        "tf.random.normal((3,3), mean=0, stddev=1)"
      ],
      "execution_count": 7,
      "outputs": [
        {
          "output_type": "execute_result",
          "data": {
            "text/plain": [
              "<tf.Tensor: shape=(3, 3), dtype=float32, numpy=\n",
              "array([[ 0.24589203,  1.2058581 , -0.41952655],\n",
              "       [ 0.2919698 ,  0.09530945, -0.21929854],\n",
              "       [-0.9684471 , -1.3014997 , -0.10570682]], dtype=float32)>"
            ]
          },
          "metadata": {
            "tags": []
          },
          "execution_count": 7
        }
      ]
    },
    {
      "cell_type": "code",
      "metadata": {
        "id": "17DeRd-uQltD",
        "outputId": "568e30ac-5958-4e8d-d8e3-f8298696f824",
        "colab": {
          "base_uri": "https://localhost:8080/"
        }
      },
      "source": [
        "tf.random.uniform((1,3), minval=0, maxval=1)"
      ],
      "execution_count": 8,
      "outputs": [
        {
          "output_type": "execute_result",
          "data": {
            "text/plain": [
              "<tf.Tensor: shape=(1, 3), dtype=float32, numpy=array([[0.37142527, 0.733068  , 0.21306562]], dtype=float32)>"
            ]
          },
          "metadata": {
            "tags": []
          },
          "execution_count": 8
        }
      ]
    },
    {
      "cell_type": "code",
      "metadata": {
        "id": "HmbvDhPRQtQ0",
        "outputId": "df9ea10a-5b0b-4f8c-ebf9-423c9a7b9e88",
        "colab": {
          "base_uri": "https://localhost:8080/"
        }
      },
      "source": [
        "tf.range(9)"
      ],
      "execution_count": 9,
      "outputs": [
        {
          "output_type": "execute_result",
          "data": {
            "text/plain": [
              "<tf.Tensor: shape=(9,), dtype=int32, numpy=array([0, 1, 2, 3, 4, 5, 6, 7, 8], dtype=int32)>"
            ]
          },
          "metadata": {
            "tags": []
          },
          "execution_count": 9
        }
      ]
    },
    {
      "cell_type": "code",
      "metadata": {
        "id": "-Z4FrHipQ0Up",
        "outputId": "b310b674-2cf0-4502-c89b-9e93214a13ed",
        "colab": {
          "base_uri": "https://localhost:8080/"
        }
      },
      "source": [
        "tf.range(start=1, limit=10, delta=2)"
      ],
      "execution_count": 10,
      "outputs": [
        {
          "output_type": "execute_result",
          "data": {
            "text/plain": [
              "<tf.Tensor: shape=(5,), dtype=int32, numpy=array([1, 3, 5, 7, 9], dtype=int32)>"
            ]
          },
          "metadata": {
            "tags": []
          },
          "execution_count": 10
        }
      ]
    },
    {
      "cell_type": "code",
      "metadata": {
        "id": "KZKPiaDnRAhz",
        "outputId": "83b8ea82-23ea-4b78-855b-e97a4249f227",
        "colab": {
          "base_uri": "https://localhost:8080/"
        }
      },
      "source": [
        "x = tf.range(start=1, limit=10, delta=2)\n",
        "tf.cast(x, dtype=tf.float64) # tf.float (16,32,64), tf.int (8,16,32,64), tf.bool"
      ],
      "execution_count": 11,
      "outputs": [
        {
          "output_type": "execute_result",
          "data": {
            "text/plain": [
              "<tf.Tensor: shape=(5,), dtype=float64, numpy=array([1., 3., 5., 7., 9.])>"
            ]
          },
          "metadata": {
            "tags": []
          },
          "execution_count": 11
        }
      ]
    },
    {
      "cell_type": "code",
      "metadata": {
        "id": "2EGC93rQPRGO",
        "outputId": "aff86063-9d7f-4712-c820-f0f894f4eb69",
        "colab": {
          "base_uri": "https://localhost:8080/"
        }
      },
      "source": [
        "# Mathamatical Operations\n",
        "x = tf.constant([1,2,3])\n",
        "y = tf.constant([9,8,7])\n",
        "\n",
        "z = tf.add(x,y) # equivalent: z = x + y \n",
        "print(z)"
      ],
      "execution_count": 12,
      "outputs": [
        {
          "output_type": "stream",
          "text": [
            "tf.Tensor([10 10 10], shape=(3,), dtype=int32)\n"
          ],
          "name": "stdout"
        }
      ]
    },
    {
      "cell_type": "code",
      "metadata": {
        "id": "sLuDXHa2R1bX",
        "outputId": "ec8a66d1-eb83-444a-8b7d-9eefbb8f212e",
        "colab": {
          "base_uri": "https://localhost:8080/"
        }
      },
      "source": [
        "z = tf.add(x,y) # equivalent: z = x + y \n",
        "print(z)"
      ],
      "execution_count": 13,
      "outputs": [
        {
          "output_type": "stream",
          "text": [
            "tf.Tensor([10 10 10], shape=(3,), dtype=int32)\n"
          ],
          "name": "stdout"
        }
      ]
    },
    {
      "cell_type": "code",
      "metadata": {
        "id": "jZQZxhNER55E",
        "outputId": "7c1ff18e-6953-4d08-eb27-5c692d7d75b2",
        "colab": {
          "base_uri": "https://localhost:8080/"
        }
      },
      "source": [
        "z = tf.subtract(x,y) # equivalent: z = x - y \n",
        "print(z)"
      ],
      "execution_count": 14,
      "outputs": [
        {
          "output_type": "stream",
          "text": [
            "tf.Tensor([-8 -6 -4], shape=(3,), dtype=int32)\n"
          ],
          "name": "stdout"
        }
      ]
    },
    {
      "cell_type": "code",
      "metadata": {
        "id": "0iZWCIq5R5v-",
        "outputId": "07b606c0-9f5e-44d4-fd30-3d47402c2ba3",
        "colab": {
          "base_uri": "https://localhost:8080/"
        }
      },
      "source": [
        "z = tf.divide(x,y) # equivalent: z = x / y \n",
        "print(z)"
      ],
      "execution_count": 15,
      "outputs": [
        {
          "output_type": "stream",
          "text": [
            "tf.Tensor([0.11111111 0.25       0.42857143], shape=(3,), dtype=float64)\n"
          ],
          "name": "stdout"
        }
      ]
    },
    {
      "cell_type": "code",
      "metadata": {
        "id": "dryCTikIR5lf",
        "outputId": "699ceffd-9b80-4a1e-a304-a7f0ba157889",
        "colab": {
          "base_uri": "https://localhost:8080/"
        }
      },
      "source": [
        "z = tf.multiply(x,y) # equivalent: z = x * y \n",
        "print(z)"
      ],
      "execution_count": 16,
      "outputs": [
        {
          "output_type": "stream",
          "text": [
            "tf.Tensor([ 9 16 21], shape=(3,), dtype=int32)\n"
          ],
          "name": "stdout"
        }
      ]
    },
    {
      "cell_type": "code",
      "metadata": {
        "id": "KyFiHQijR5Zg",
        "outputId": "785554be-0251-438f-e8a9-4ea833e7af2b",
        "colab": {
          "base_uri": "https://localhost:8080/"
        }
      },
      "source": [
        "z = tf.tensordot(x, y, axes=1)\n",
        "print(z)"
      ],
      "execution_count": 17,
      "outputs": [
        {
          "output_type": "stream",
          "text": [
            "tf.Tensor(46, shape=(), dtype=int32)\n"
          ],
          "name": "stdout"
        }
      ]
    },
    {
      "cell_type": "code",
      "metadata": {
        "id": "2xSAYfHHR5Gd",
        "outputId": "c3ed2329-9a1f-45dd-b27b-4903835288ed",
        "colab": {
          "base_uri": "https://localhost:8080/"
        }
      },
      "source": [
        "z = tf.reduce_sum(x*y, axis=0)\n",
        "print(z)"
      ],
      "execution_count": 18,
      "outputs": [
        {
          "output_type": "stream",
          "text": [
            "tf.Tensor(46, shape=(), dtype=int32)\n"
          ],
          "name": "stdout"
        }
      ]
    },
    {
      "cell_type": "code",
      "metadata": {
        "id": "AeIKvVz5ez3J",
        "outputId": "f8496287-1bca-4774-e4df-36f8a8632032",
        "colab": {
          "base_uri": "https://localhost:8080/"
        }
      },
      "source": [
        "z = x ** 5 # elementwise exponantiation\n",
        "print(z)"
      ],
      "execution_count": 19,
      "outputs": [
        {
          "output_type": "stream",
          "text": [
            "tf.Tensor([  1  32 243], shape=(3,), dtype=int32)\n"
          ],
          "name": "stdout"
        }
      ]
    },
    {
      "cell_type": "code",
      "metadata": {
        "id": "QiNc6qGtfEB7",
        "outputId": "6f277365-9018-49d8-eda9-74511dc6cb8a",
        "colab": {
          "base_uri": "https://localhost:8080/"
        }
      },
      "source": [
        "x = tf.random.normal((2, 3))\n",
        "y = tf.random.normal((3, 4))\n",
        "z = tf.matmul(x, y)\n",
        "print(z)"
      ],
      "execution_count": 20,
      "outputs": [
        {
          "output_type": "stream",
          "text": [
            "tf.Tensor(\n",
            "[[ 2.9546533  -1.6510837   3.0586374   0.94012403]\n",
            " [-3.5683317   2.9453773  -3.2606745   0.57489705]], shape=(2, 4), dtype=float32)\n"
          ],
          "name": "stdout"
        }
      ]
    },
    {
      "cell_type": "code",
      "metadata": {
        "id": "rLOyDXIQfRk-",
        "outputId": "7f1300c3-593d-44d9-bcaa-acf14139b97e",
        "colab": {
          "base_uri": "https://localhost:8080/"
        }
      },
      "source": [
        "z = x @ y\n",
        "print(z)"
      ],
      "execution_count": 21,
      "outputs": [
        {
          "output_type": "stream",
          "text": [
            "tf.Tensor(\n",
            "[[ 2.9546533  -1.6510837   3.0586374   0.94012403]\n",
            " [-3.5683317   2.9453773  -3.2606745   0.57489705]], shape=(2, 4), dtype=float32)\n"
          ],
          "name": "stdout"
        }
      ]
    },
    {
      "cell_type": "code",
      "metadata": {
        "id": "cASECuj2PRDO",
        "outputId": "80888989-58ed-4a93-e75e-a6b351e7a727",
        "colab": {
          "base_uri": "https://localhost:8080/"
        }
      },
      "source": [
        "# Indexing\n",
        "x = tf.constant([0, 1, 1, 2, 3, 1, 2, 3])\n",
        "print(x[:])"
      ],
      "execution_count": 22,
      "outputs": [
        {
          "output_type": "stream",
          "text": [
            "tf.Tensor([0 1 1 2 3 1 2 3], shape=(8,), dtype=int32)\n"
          ],
          "name": "stdout"
        }
      ]
    },
    {
      "cell_type": "code",
      "metadata": {
        "id": "WbnxDWWiPQ8j",
        "outputId": "8325f902-6e7a-47c1-80d4-ad06b473ff20",
        "colab": {
          "base_uri": "https://localhost:8080/"
        }
      },
      "source": [
        "print(x[1:])"
      ],
      "execution_count": 23,
      "outputs": [
        {
          "output_type": "stream",
          "text": [
            "tf.Tensor([1 1 2 3 1 2 3], shape=(7,), dtype=int32)\n"
          ],
          "name": "stdout"
        }
      ]
    },
    {
      "cell_type": "code",
      "metadata": {
        "id": "UEGE6dKOfnts",
        "outputId": "bac8fd99-dba3-41b4-d013-70e696af6215",
        "colab": {
          "base_uri": "https://localhost:8080/"
        }
      },
      "source": [
        "print(x[1:3])"
      ],
      "execution_count": 24,
      "outputs": [
        {
          "output_type": "stream",
          "text": [
            "tf.Tensor([1 1], shape=(2,), dtype=int32)\n"
          ],
          "name": "stdout"
        }
      ]
    },
    {
      "cell_type": "code",
      "metadata": {
        "id": "sXDR3VbffrqJ",
        "outputId": "8c653036-4d83-479c-df6d-a51519fd3680",
        "colab": {
          "base_uri": "https://localhost:8080/"
        }
      },
      "source": [
        "print(x[::2])"
      ],
      "execution_count": 25,
      "outputs": [
        {
          "output_type": "stream",
          "text": [
            "tf.Tensor([0 1 3 2], shape=(4,), dtype=int32)\n"
          ],
          "name": "stdout"
        }
      ]
    },
    {
      "cell_type": "code",
      "metadata": {
        "id": "WG36IMxoft1L",
        "outputId": "d8743213-9d70-4713-a7d4-f9b7110737a6",
        "colab": {
          "base_uri": "https://localhost:8080/"
        }
      },
      "source": [
        "print(x[::-1])"
      ],
      "execution_count": 26,
      "outputs": [
        {
          "output_type": "stream",
          "text": [
            "tf.Tensor([3 2 1 3 2 1 1 0], shape=(8,), dtype=int32)\n"
          ],
          "name": "stdout"
        }
      ]
    },
    {
      "cell_type": "code",
      "metadata": {
        "id": "XfwLGM81fw9A",
        "outputId": "22a042cb-c45c-4cc2-a900-15c776700b91",
        "colab": {
          "base_uri": "https://localhost:8080/"
        }
      },
      "source": [
        "indices = tf.constant([0, 3])\n",
        "x_ind = tf.gather(x, indices)\n",
        "print(x_ind)"
      ],
      "execution_count": 27,
      "outputs": [
        {
          "output_type": "stream",
          "text": [
            "tf.Tensor([0 2], shape=(2,), dtype=int32)\n"
          ],
          "name": "stdout"
        }
      ]
    },
    {
      "cell_type": "code",
      "metadata": {
        "id": "zYjoAVIOf3s8",
        "outputId": "7e3ae22c-c097-4c57-ad07-1850a9da0b51",
        "colab": {
          "base_uri": "https://localhost:8080/"
        }
      },
      "source": [
        "x = tf.constant([[1, 2],\n",
        "                 [3, 4],\n",
        "                 [5, 6]])\n",
        "print(x[0,:])"
      ],
      "execution_count": 28,
      "outputs": [
        {
          "output_type": "stream",
          "text": [
            "tf.Tensor([1 2], shape=(2,), dtype=int32)\n"
          ],
          "name": "stdout"
        }
      ]
    },
    {
      "cell_type": "code",
      "metadata": {
        "id": "HFrQQsZkgSnB",
        "outputId": "ef8f31fd-8938-4925-d9d4-a325019503bd",
        "colab": {
          "base_uri": "https://localhost:8080/"
        }
      },
      "source": [
        "print(x[0:2,:])"
      ],
      "execution_count": 29,
      "outputs": [
        {
          "output_type": "stream",
          "text": [
            "tf.Tensor(\n",
            "[[1 2]\n",
            " [3 4]], shape=(2, 2), dtype=int32)\n"
          ],
          "name": "stdout"
        }
      ]
    },
    {
      "cell_type": "code",
      "metadata": {
        "id": "VwXPEq3Ygad3",
        "outputId": "5aaf415b-122e-492d-d4ca-60d53eba2587",
        "colab": {
          "base_uri": "https://localhost:8080/"
        }
      },
      "source": [
        "# Reshaping\n",
        "x = tf.range(9)\n",
        "print(x)"
      ],
      "execution_count": 30,
      "outputs": [
        {
          "output_type": "stream",
          "text": [
            "tf.Tensor([0 1 2 3 4 5 6 7 8], shape=(9,), dtype=int32)\n"
          ],
          "name": "stdout"
        }
      ]
    },
    {
      "cell_type": "code",
      "metadata": {
        "id": "XK_1mnv5glcl",
        "outputId": "5834bc91-e32c-4668-c87b-995ab8cb45f6",
        "colab": {
          "base_uri": "https://localhost:8080/"
        }
      },
      "source": [
        "x = tf.reshape(x, (3,3))\n",
        "print(x)"
      ],
      "execution_count": 31,
      "outputs": [
        {
          "output_type": "stream",
          "text": [
            "tf.Tensor(\n",
            "[[0 1 2]\n",
            " [3 4 5]\n",
            " [6 7 8]], shape=(3, 3), dtype=int32)\n"
          ],
          "name": "stdout"
        }
      ]
    },
    {
      "cell_type": "code",
      "metadata": {
        "id": "9n3axoXdgqWf",
        "outputId": "f6bbdc85-4677-4007-fa42-f792d5e46151",
        "colab": {
          "base_uri": "https://localhost:8080/"
        }
      },
      "source": [
        "x = tf.transpose(x, perm=[1,0])\n",
        "print(x)"
      ],
      "execution_count": 32,
      "outputs": [
        {
          "output_type": "stream",
          "text": [
            "tf.Tensor(\n",
            "[[0 3 6]\n",
            " [1 4 7]\n",
            " [2 5 8]], shape=(3, 3), dtype=int32)\n"
          ],
          "name": "stdout"
        }
      ]
    },
    {
      "cell_type": "markdown",
      "metadata": {
        "id": "cv4Ar3FelZZV"
      },
      "source": [
        "Source: TensorFlow 2.0 Beginner Tutorials<br>\n",
        "[TensorFlow Tutorial 3 - Neural Networks with Sequential and Functional API](https://www.youtube.com/watch?v=pAhPiF3yiXI&list=PLhhyoLH6IjfxVOdVC1P1L5z5azs0XjMsb&index=3&ab_channel=AladdinPersson)"
      ]
    },
    {
      "cell_type": "code",
      "metadata": {
        "id": "okUYKDu3gzAj"
      },
      "source": [
        "import tensorflow as tf\n",
        "from tensorflow import keras\n",
        "from tensorflow.keras import layers\n",
        "from tensorflow.keras.datasets import mnist"
      ],
      "execution_count": 33,
      "outputs": []
    },
    {
      "cell_type": "code",
      "metadata": {
        "id": "MPg2rLpkl3Hs",
        "outputId": "a5a426e6-9368-4d8a-8f10-c67bcfbf9143",
        "colab": {
          "base_uri": "https://localhost:8080/"
        }
      },
      "source": [
        "(x_train, y_train), (x_test, y_test) = mnist.load_data()\n",
        "print(x_train.shape)\n",
        "print(y_train.shape)"
      ],
      "execution_count": 34,
      "outputs": [
        {
          "output_type": "stream",
          "text": [
            "Downloading data from https://storage.googleapis.com/tensorflow/tf-keras-datasets/mnist.npz\n",
            "11493376/11490434 [==============================] - 0s 0us/step\n",
            "(60000, 28, 28)\n",
            "(60000,)\n"
          ],
          "name": "stdout"
        }
      ]
    },
    {
      "cell_type": "code",
      "metadata": {
        "id": "gZ32uTLrmLDV"
      },
      "source": [
        "x_train = x_train.reshape(-1, 28*28).astype(\"float32\") / 255.0 # flatten so we can load to a NN\n",
        "x_test = x_test.reshape(-1, 28*28).astype(\"float32\") / 255.0"
      ],
      "execution_count": 35,
      "outputs": []
    },
    {
      "cell_type": "code",
      "metadata": {
        "id": "tHVTtR20mWMf"
      },
      "source": [
        "# Sequential API (very convenient, not very flexable)\n",
        "model = keras.Sequential(\n",
        "    [\n",
        "     layers.Dense(512, activation='relu'),\n",
        "     layers.Dense(256, activation='relu'),\n",
        "     layers.Dense(10),\n",
        "     ]\n",
        ")"
      ],
      "execution_count": 36,
      "outputs": []
    },
    {
      "cell_type": "code",
      "metadata": {
        "id": "KGkQuhm_6Es2"
      },
      "source": [
        "model.compile(\n",
        "    loss=keras.losses.SparseCategoricalCrossentropy(from_logits=True),\n",
        "    optimizer=keras.optimizers.Adam(lr=0.001),\n",
        "    metrics=[\"accuracy\"]\n",
        ")"
      ],
      "execution_count": 37,
      "outputs": []
    },
    {
      "cell_type": "code",
      "metadata": {
        "id": "VcZYZCwT6qxz",
        "outputId": "350bb313-2848-4cb3-9cae-f48e94b95941",
        "colab": {
          "base_uri": "https://localhost:8080/"
        }
      },
      "source": [
        "model.fit(x_train, y_train, batch_size=32, epochs=5, verbose=2)\n",
        "model.evaluate(x_test, y_test, batch_size=32, verbose=2)"
      ],
      "execution_count": 38,
      "outputs": [
        {
          "output_type": "stream",
          "text": [
            "Epoch 1/5\n",
            "1875/1875 - 3s - loss: 0.1890 - accuracy: 0.9416\n",
            "Epoch 2/5\n",
            "1875/1875 - 3s - loss: 0.0801 - accuracy: 0.9755\n",
            "Epoch 3/5\n",
            "1875/1875 - 3s - loss: 0.0550 - accuracy: 0.9829\n",
            "Epoch 4/5\n",
            "1875/1875 - 3s - loss: 0.0437 - accuracy: 0.9862\n",
            "Epoch 5/5\n",
            "1875/1875 - 3s - loss: 0.0320 - accuracy: 0.9892\n",
            "313/313 - 0s - loss: 0.0719 - accuracy: 0.9809\n"
          ],
          "name": "stdout"
        },
        {
          "output_type": "execute_result",
          "data": {
            "text/plain": [
              "[0.07186111807823181, 0.98089998960495]"
            ]
          },
          "metadata": {
            "tags": []
          },
          "execution_count": 38
        }
      ]
    },
    {
      "cell_type": "code",
      "metadata": {
        "id": "F_QBweGJ67sK"
      },
      "source": [
        "model = keras.Sequential(\n",
        "    [\n",
        "     keras.Input(shape=(28*28)), # need this to print model.summary before running model.fit\n",
        "     layers.Dense(512, activation='relu'),\n",
        "     layers.Dense(256, activation='relu'),\n",
        "     layers.Dense(10),\n",
        "     ]\n",
        ")"
      ],
      "execution_count": 39,
      "outputs": []
    },
    {
      "cell_type": "code",
      "metadata": {
        "id": "an9ikMse7YiJ",
        "outputId": "7d8b68b8-0138-4277-e346-93fef4c991cd",
        "colab": {
          "base_uri": "https://localhost:8080/"
        }
      },
      "source": [
        "print(model.summary())"
      ],
      "execution_count": 40,
      "outputs": [
        {
          "output_type": "stream",
          "text": [
            "Model: \"sequential_1\"\n",
            "_________________________________________________________________\n",
            "Layer (type)                 Output Shape              Param #   \n",
            "=================================================================\n",
            "dense_3 (Dense)              (None, 512)               401920    \n",
            "_________________________________________________________________\n",
            "dense_4 (Dense)              (None, 256)               131328    \n",
            "_________________________________________________________________\n",
            "dense_5 (Dense)              (None, 10)                2570      \n",
            "=================================================================\n",
            "Total params: 535,818\n",
            "Trainable params: 535,818\n",
            "Non-trainable params: 0\n",
            "_________________________________________________________________\n",
            "None\n"
          ],
          "name": "stdout"
        }
      ]
    },
    {
      "cell_type": "code",
      "metadata": {
        "id": "0jYPLjcd7a3r",
        "outputId": "104fdd32-dc0d-4bff-d54f-9643f4ecfa22",
        "colab": {
          "base_uri": "https://localhost:8080/"
        }
      },
      "source": [
        "model = keras.Sequential() # another way to create the model\n",
        "model.add(keras.Input(shape=(28*28)))\n",
        "model.add(layers.Dense(512, activation='relu'))\n",
        "print(model.summary())\n",
        "model.add(layers.Dense(256, activation='relu'))\n",
        "model.add(layers.Dense(10))\n",
        "print(model.summary())"
      ],
      "execution_count": 41,
      "outputs": [
        {
          "output_type": "stream",
          "text": [
            "Model: \"sequential_2\"\n",
            "_________________________________________________________________\n",
            "Layer (type)                 Output Shape              Param #   \n",
            "=================================================================\n",
            "dense_6 (Dense)              (None, 512)               401920    \n",
            "=================================================================\n",
            "Total params: 401,920\n",
            "Trainable params: 401,920\n",
            "Non-trainable params: 0\n",
            "_________________________________________________________________\n",
            "None\n",
            "Model: \"sequential_2\"\n",
            "_________________________________________________________________\n",
            "Layer (type)                 Output Shape              Param #   \n",
            "=================================================================\n",
            "dense_6 (Dense)              (None, 512)               401920    \n",
            "_________________________________________________________________\n",
            "dense_7 (Dense)              (None, 256)               131328    \n",
            "_________________________________________________________________\n",
            "dense_8 (Dense)              (None, 10)                2570      \n",
            "=================================================================\n",
            "Total params: 535,818\n",
            "Trainable params: 535,818\n",
            "Non-trainable params: 0\n",
            "_________________________________________________________________\n",
            "None\n"
          ],
          "name": "stdout"
        }
      ]
    },
    {
      "cell_type": "code",
      "metadata": {
        "id": "c4EsNUEr79ey"
      },
      "source": [
        "# Functional API (a bit more flexable)\n",
        "inputs = keras.Input(784)\n",
        "x = layers.Dense(512, activation='relu')(inputs)\n",
        "x = layers.Dense(256, activation='relu')(x)\n",
        "outputs = layers.Dense(10, activation='softmax')(x)\n",
        "model = keras.Model(inputs=inputs, outputs=outputs)"
      ],
      "execution_count": 42,
      "outputs": []
    },
    {
      "cell_type": "code",
      "metadata": {
        "id": "DRMaRHnh82rp",
        "outputId": "fb76dc9a-e844-45eb-844d-521d0696ddb4",
        "colab": {
          "base_uri": "https://localhost:8080/"
        }
      },
      "source": [
        "print(model.summary())"
      ],
      "execution_count": 43,
      "outputs": [
        {
          "output_type": "stream",
          "text": [
            "Model: \"functional_1\"\n",
            "_________________________________________________________________\n",
            "Layer (type)                 Output Shape              Param #   \n",
            "=================================================================\n",
            "input_3 (InputLayer)         [(None, 784)]             0         \n",
            "_________________________________________________________________\n",
            "dense_9 (Dense)              (None, 512)               401920    \n",
            "_________________________________________________________________\n",
            "dense_10 (Dense)             (None, 256)               131328    \n",
            "_________________________________________________________________\n",
            "dense_11 (Dense)             (None, 10)                2570      \n",
            "=================================================================\n",
            "Total params: 535,818\n",
            "Trainable params: 535,818\n",
            "Non-trainable params: 0\n",
            "_________________________________________________________________\n",
            "None\n"
          ],
          "name": "stdout"
        }
      ]
    },
    {
      "cell_type": "code",
      "metadata": {
        "id": "TxITQJus8c1G"
      },
      "source": [
        "model.compile(\n",
        "    loss=keras.losses.SparseCategoricalCrossentropy(from_logits=False),\n",
        "    optimizer=keras.optimizers.Adam(lr=0.001),\n",
        "    metrics=[\"accuracy\"]\n",
        ")"
      ],
      "execution_count": 44,
      "outputs": []
    },
    {
      "cell_type": "code",
      "metadata": {
        "id": "ztSZzNet9AuX",
        "outputId": "65dc31ca-cd3c-4b22-8b37-667db55aa688",
        "colab": {
          "base_uri": "https://localhost:8080/"
        }
      },
      "source": [
        "model.fit(x_train, y_train, batch_size=32, epochs=5, verbose=2)\n",
        "model.evaluate(x_test, y_test, batch_size=32, verbose=2)"
      ],
      "execution_count": 45,
      "outputs": [
        {
          "output_type": "stream",
          "text": [
            "Epoch 1/5\n",
            "1875/1875 - 3s - loss: 0.1861 - accuracy: 0.9437\n",
            "Epoch 2/5\n",
            "1875/1875 - 3s - loss: 0.0800 - accuracy: 0.9758\n",
            "Epoch 3/5\n",
            "1875/1875 - 3s - loss: 0.0549 - accuracy: 0.9825\n",
            "Epoch 4/5\n",
            "1875/1875 - 3s - loss: 0.0421 - accuracy: 0.9864\n",
            "Epoch 5/5\n",
            "1875/1875 - 3s - loss: 0.0336 - accuracy: 0.9890\n",
            "313/313 - 0s - loss: 0.0808 - accuracy: 0.9808\n"
          ],
          "name": "stdout"
        },
        {
          "output_type": "execute_result",
          "data": {
            "text/plain": [
              "[0.08075303584337234, 0.9807999730110168]"
            ]
          },
          "metadata": {
            "tags": []
          },
          "execution_count": 45
        }
      ]
    },
    {
      "cell_type": "code",
      "metadata": {
        "id": "_o0adOD49Dr2"
      },
      "source": [
        "# Functional API (a bit more flexable)\n",
        "inputs = keras.Input(784)\n",
        "x = layers.Dense(512, activation='relu', name='first_layer')(inputs)\n",
        "x = layers.Dense(256, activation='relu', name='second_layer')(x)\n",
        "outputs = layers.Dense(10, activation='softmax')(x)\n",
        "model = keras.Model(inputs=inputs, outputs=outputs)"
      ],
      "execution_count": 46,
      "outputs": []
    },
    {
      "cell_type": "code",
      "metadata": {
        "id": "Ut_w32VZ9OhT",
        "outputId": "76cffc08-41cc-4de9-c53e-9321990bd3d5",
        "colab": {
          "base_uri": "https://localhost:8080/"
        }
      },
      "source": [
        "print(model.summary())"
      ],
      "execution_count": 47,
      "outputs": [
        {
          "output_type": "stream",
          "text": [
            "Model: \"functional_3\"\n",
            "_________________________________________________________________\n",
            "Layer (type)                 Output Shape              Param #   \n",
            "=================================================================\n",
            "input_4 (InputLayer)         [(None, 784)]             0         \n",
            "_________________________________________________________________\n",
            "first_layer (Dense)          (None, 512)               401920    \n",
            "_________________________________________________________________\n",
            "second_layer (Dense)         (None, 256)               131328    \n",
            "_________________________________________________________________\n",
            "dense_12 (Dense)             (None, 10)                2570      \n",
            "=================================================================\n",
            "Total params: 535,818\n",
            "Trainable params: 535,818\n",
            "Non-trainable params: 0\n",
            "_________________________________________________________________\n",
            "None\n"
          ],
          "name": "stdout"
        }
      ]
    },
    {
      "cell_type": "code",
      "metadata": {
        "id": "xE0le99J9SUq"
      },
      "source": [
        "model = keras.Sequential()\n",
        "model.add(keras.Input(shape=(28*28)))\n",
        "model.add(layers.Dense(512, activation='relu'))\n",
        "model.add(layers.Dense(256, activation='relu', name='my_layer'))\n",
        "model.add(layers.Dense(10))"
      ],
      "execution_count": 48,
      "outputs": []
    },
    {
      "cell_type": "code",
      "metadata": {
        "id": "wD1o42PX901W",
        "outputId": "ff193d64-a805-4eb6-cd3c-5fecb1e3c6ba",
        "colab": {
          "base_uri": "https://localhost:8080/"
        }
      },
      "source": [
        "model = keras.Model(inputs=model.inputs,\n",
        "                    outputs=[model.layers[-2].output]) # or: model.get_layer('my_layer').output\n",
        "feature = model.predict(x_train)\n",
        "print(feature.shape)"
      ],
      "execution_count": 49,
      "outputs": [
        {
          "output_type": "stream",
          "text": [
            "(60000, 256)\n"
          ],
          "name": "stdout"
        }
      ]
    },
    {
      "cell_type": "code",
      "metadata": {
        "id": "Qm1OIs_i-Dvl",
        "outputId": "47af2cc8-25bc-474f-c621-02c65543a096",
        "colab": {
          "base_uri": "https://localhost:8080/"
        }
      },
      "source": [
        "model = keras.Model(inputs=model.inputs,\n",
        "                    outputs=[layer.output for layer in model.layers])\n",
        "features = model.predict(x_train)\n",
        "for feature in features:\n",
        "  print(feature.shape)"
      ],
      "execution_count": 50,
      "outputs": [
        {
          "output_type": "stream",
          "text": [
            "(60000, 784)\n",
            "(60000, 512)\n",
            "(60000, 256)\n"
          ],
          "name": "stdout"
        }
      ]
    },
    {
      "cell_type": "markdown",
      "metadata": {
        "id": "MUV7XKzeWMvM"
      },
      "source": [
        "Source: TensorFlow 2.0 Beginner Tutorials<br>\n",
        "[TensorFlow Tutorial 4 - Convolutional Neural Networks with Sequential and Functional API](https://www.youtube.com/watch?v=WAciKiDP2bo&ab_channel=AladdinPersson)"
      ]
    },
    {
      "cell_type": "code",
      "metadata": {
        "id": "d7WPYIuS-jSd"
      },
      "source": [
        "import tensorflow as tf\n",
        "from tensorflow import keras\n",
        "from tensorflow.keras import layers\n",
        "from tensorflow.keras.datasets import cifar10"
      ],
      "execution_count": 51,
      "outputs": []
    },
    {
      "cell_type": "code",
      "metadata": {
        "id": "m-g_dyRSWvhl",
        "outputId": "8c46e8f2-ebd5-4763-f08d-e47cea63f1e7",
        "colab": {
          "base_uri": "https://localhost:8080/"
        }
      },
      "source": [
        "(x_train, y_train), (x_test, y_test) = cifar10.load_data()\n",
        "x_train = x_train.astype(\"float32\") / 255.0\n",
        "x_test = x_test.astype(\"float32\") / 255.0"
      ],
      "execution_count": 52,
      "outputs": [
        {
          "output_type": "stream",
          "text": [
            "Downloading data from https://www.cs.toronto.edu/~kriz/cifar-10-python.tar.gz\n",
            "170500096/170498071 [==============================] - 4s 0us/step\n"
          ],
          "name": "stdout"
        }
      ]
    },
    {
      "cell_type": "code",
      "metadata": {
        "id": "TQRefUqXXSJJ"
      },
      "source": [
        "model = keras.Sequential(\n",
        "    [\n",
        "     keras.Input(shape=(32, 32, 3)),\n",
        "     layers.Conv2D(32, 3, padding='valid', activation='relu'),\n",
        "     layers.MaxPooling2D(pool_size=(2,2)),\n",
        "     layers.Conv2D(64, 3, activation='relu'),\n",
        "     layers.MaxPooling2D(),\n",
        "     layers.Conv2D(128, 3, activation='relu'),\n",
        "     layers.Flatten(),\n",
        "     layers.Dense(64, activation='relu'),\n",
        "     layers.Dense(10)\n",
        "    ]\n",
        ")"
      ],
      "execution_count": 53,
      "outputs": []
    },
    {
      "cell_type": "code",
      "metadata": {
        "id": "yNo8f8JkZUkQ",
        "outputId": "02f5ddc4-e045-41f7-a4c3-b586106a1f61",
        "colab": {
          "base_uri": "https://localhost:8080/"
        }
      },
      "source": [
        "print(model.summary())"
      ],
      "execution_count": 54,
      "outputs": [
        {
          "output_type": "stream",
          "text": [
            "Model: \"sequential_4\"\n",
            "_________________________________________________________________\n",
            "Layer (type)                 Output Shape              Param #   \n",
            "=================================================================\n",
            "conv2d (Conv2D)              (None, 30, 30, 32)        896       \n",
            "_________________________________________________________________\n",
            "max_pooling2d (MaxPooling2D) (None, 15, 15, 32)        0         \n",
            "_________________________________________________________________\n",
            "conv2d_1 (Conv2D)            (None, 13, 13, 64)        18496     \n",
            "_________________________________________________________________\n",
            "max_pooling2d_1 (MaxPooling2 (None, 6, 6, 64)          0         \n",
            "_________________________________________________________________\n",
            "conv2d_2 (Conv2D)            (None, 4, 4, 128)         73856     \n",
            "_________________________________________________________________\n",
            "flatten (Flatten)            (None, 2048)              0         \n",
            "_________________________________________________________________\n",
            "dense_15 (Dense)             (None, 64)                131136    \n",
            "_________________________________________________________________\n",
            "dense_16 (Dense)             (None, 10)                650       \n",
            "=================================================================\n",
            "Total params: 225,034\n",
            "Trainable params: 225,034\n",
            "Non-trainable params: 0\n",
            "_________________________________________________________________\n",
            "None\n"
          ],
          "name": "stdout"
        }
      ]
    },
    {
      "cell_type": "code",
      "metadata": {
        "id": "ezb0JP3zYkFu"
      },
      "source": [
        "model.compile(\n",
        "    loss=keras.losses.SparseCategoricalCrossentropy(from_logits=True),\n",
        "    optimizer=keras.optimizers.Adam(lr=3e-4),\n",
        "    metrics=[\"accuracy\"],\n",
        ")"
      ],
      "execution_count": 55,
      "outputs": []
    },
    {
      "cell_type": "code",
      "metadata": {
        "id": "eQ6oKgrDYj_o",
        "outputId": "5cd24214-77d4-4eca-b979-dc7315d427ad",
        "colab": {
          "base_uri": "https://localhost:8080/"
        }
      },
      "source": [
        "model.fit(x_train, y_train, batch_size=64, epochs=10, verbose=2)\n",
        "model.evaluate(x_test, y_test, batch_size=64, verbose=2)"
      ],
      "execution_count": 56,
      "outputs": [
        {
          "output_type": "stream",
          "text": [
            "Epoch 1/10\n",
            "782/782 - 2s - loss: 1.6774 - accuracy: 0.3883\n",
            "Epoch 2/10\n",
            "782/782 - 2s - loss: 1.3648 - accuracy: 0.5085\n",
            "Epoch 3/10\n",
            "782/782 - 2s - loss: 1.2367 - accuracy: 0.5617\n",
            "Epoch 4/10\n",
            "782/782 - 2s - loss: 1.1390 - accuracy: 0.5982\n",
            "Epoch 5/10\n",
            "782/782 - 2s - loss: 1.0620 - accuracy: 0.6285\n",
            "Epoch 6/10\n",
            "782/782 - 2s - loss: 1.0006 - accuracy: 0.6510\n",
            "Epoch 7/10\n",
            "782/782 - 2s - loss: 0.9471 - accuracy: 0.6712\n",
            "Epoch 8/10\n",
            "782/782 - 2s - loss: 0.9072 - accuracy: 0.6841\n",
            "Epoch 9/10\n",
            "782/782 - 2s - loss: 0.8658 - accuracy: 0.7013\n",
            "Epoch 10/10\n",
            "782/782 - 2s - loss: 0.8280 - accuracy: 0.7141\n",
            "157/157 - 0s - loss: 0.8932 - accuracy: 0.6912\n"
          ],
          "name": "stdout"
        },
        {
          "output_type": "execute_result",
          "data": {
            "text/plain": [
              "[0.8931540250778198, 0.6912000179290771]"
            ]
          },
          "metadata": {
            "tags": []
          },
          "execution_count": 56
        }
      ]
    },
    {
      "cell_type": "code",
      "metadata": {
        "id": "ZaWz_FBAYj62"
      },
      "source": [
        "def my_model():\n",
        "  inputs = keras.Input(shape=(32, 32, 3))\n",
        "  x = layers.Conv2D(32, 3)(inputs)\n",
        "  x = layers.BatchNormalization()(x)\n",
        "  x = keras.activations.relu(x)\n",
        "  x = layers.MaxPooling2D()(x)\n",
        "  x = layers.Conv2D(64, 5, padding='same')(x)\n",
        "  x = layers.BatchNormalization()(x)\n",
        "  x = keras.activations.relu(x)\n",
        "  x = layers.Conv2D(128, 3)(x)\n",
        "  x = layers.BatchNormalization()(x)\n",
        "  x = keras.activations.relu(x)\n",
        "  x = layers.Flatten()(x)\n",
        "  x = layers.Dense(64, activation='relu')(x)\n",
        "  outputs = layers.Dense(10)(x)\n",
        "  model = keras.Model(inputs=inputs, outputs=outputs)\n",
        "  return model"
      ],
      "execution_count": 57,
      "outputs": []
    },
    {
      "cell_type": "code",
      "metadata": {
        "id": "WZahE4oka06p",
        "outputId": "8e9e8df4-61f2-42dd-b4c5-ff57a2d29f0c",
        "colab": {
          "base_uri": "https://localhost:8080/"
        }
      },
      "source": [
        "model = my_model()\n",
        "model.compile(\n",
        "    loss=keras.losses.SparseCategoricalCrossentropy(from_logits=True),\n",
        "    optimizer=keras.optimizers.Adam(lr=3e-4),\n",
        "    metrics=[\"accuracy\"],\n",
        ")\n",
        "model.fit(x_train, y_train, batch_size=64, epochs=10, verbose=2)\n",
        "model.evaluate(x_test, y_test, batch_size=64, verbose=2)"
      ],
      "execution_count": 58,
      "outputs": [
        {
          "output_type": "stream",
          "text": [
            "Epoch 1/10\n",
            "782/782 - 4s - loss: 1.3243 - accuracy: 0.5292\n",
            "Epoch 2/10\n",
            "782/782 - 4s - loss: 0.9136 - accuracy: 0.6800\n",
            "Epoch 3/10\n",
            "782/782 - 4s - loss: 0.7421 - accuracy: 0.7394\n",
            "Epoch 4/10\n",
            "782/782 - 4s - loss: 0.6305 - accuracy: 0.7801\n",
            "Epoch 5/10\n",
            "782/782 - 4s - loss: 0.5488 - accuracy: 0.8078\n",
            "Epoch 6/10\n",
            "782/782 - 4s - loss: 0.4647 - accuracy: 0.8375\n",
            "Epoch 7/10\n",
            "782/782 - 4s - loss: 0.3915 - accuracy: 0.8645\n",
            "Epoch 8/10\n",
            "782/782 - 4s - loss: 0.3350 - accuracy: 0.8853\n",
            "Epoch 9/10\n",
            "782/782 - 4s - loss: 0.2692 - accuracy: 0.9078\n",
            "Epoch 10/10\n",
            "782/782 - 4s - loss: 0.2235 - accuracy: 0.9254\n",
            "157/157 - 0s - loss: 0.9771 - accuracy: 0.7111\n"
          ],
          "name": "stdout"
        },
        {
          "output_type": "execute_result",
          "data": {
            "text/plain": [
              "[0.9771324992179871, 0.7110999822616577]"
            ]
          },
          "metadata": {
            "tags": []
          },
          "execution_count": 58
        }
      ]
    },
    {
      "cell_type": "markdown",
      "metadata": {
        "id": "Y_GvakuKdzMQ"
      },
      "source": [
        "Source: TensorFlow 2.0 Beginner Tutorials<br>\n",
        "[TensorFlow Tutorial 5 - Adding Regularization with L2 and Dropout](https://www.youtube.com/watch?v=kJSUq1PLmWg&ab_channel=AladdinPersson)"
      ]
    },
    {
      "cell_type": "code",
      "metadata": {
        "id": "jC0qma3GdcV1"
      },
      "source": [
        "from tensorflow.keras import regularizers"
      ],
      "execution_count": 59,
      "outputs": []
    },
    {
      "cell_type": "code",
      "metadata": {
        "id": "m6b1I2tbeFBf"
      },
      "source": [
        "def my_model():\n",
        "  inputs = keras.Input(shape=(32, 32, 3))\n",
        "  x = layers.Conv2D(32, 3, padding='same', kernel_regularizer=regularizers.l2(0.01))(inputs)\n",
        "  x = layers.BatchNormalization()(x)\n",
        "  x = keras.activations.relu(x)\n",
        "  x = layers.MaxPooling2D()(x)\n",
        "  x = layers.Conv2D(64, 5, padding='same', kernel_regularizer=regularizers.l2(0.01))(x)\n",
        "  x = layers.BatchNormalization()(x)\n",
        "  x = keras.activations.relu(x)\n",
        "  x = layers.Conv2D(128, 3, padding='same', kernel_regularizer=regularizers.l2(0.01))(x)\n",
        "  x = layers.BatchNormalization()(x)\n",
        "  x = keras.activations.relu(x)\n",
        "  x = layers.Flatten()(x)\n",
        "  x = layers.Dense(64, activation='relu', kernel_regularizer=regularizers.l2(0.01))(x)\n",
        "  outputs = layers.Dense(10)(x)\n",
        "  model = keras.Model(inputs=inputs, outputs=outputs)\n",
        "  return model"
      ],
      "execution_count": 64,
      "outputs": []
    },
    {
      "cell_type": "code",
      "metadata": {
        "id": "sG6g0783eE7J",
        "outputId": "81014e59-d122-4acb-c327-9d9bc29cc91b",
        "colab": {
          "base_uri": "https://localhost:8080/"
        }
      },
      "source": [
        "model = my_model()\n",
        "model.compile(\n",
        "    loss=keras.losses.SparseCategoricalCrossentropy(from_logits=True),\n",
        "    optimizer=keras.optimizers.Adam(lr=3e-4),\n",
        "    metrics=[\"accuracy\"],\n",
        ")\n",
        "model.fit(x_train, y_train, batch_size=64, epochs=150, verbose=2)\n",
        "model.evaluate(x_test, y_test, batch_size=64, verbose=2)"
      ],
      "execution_count": 65,
      "outputs": [
        {
          "output_type": "stream",
          "text": [
            "Epoch 1/150\n",
            "782/782 - 4s - loss: 2.6576 - accuracy: 0.4588\n",
            "Epoch 2/150\n",
            "782/782 - 4s - loss: 1.4128 - accuracy: 0.6484\n",
            "Epoch 3/150\n",
            "782/782 - 4s - loss: 1.1778 - accuracy: 0.6918\n",
            "Epoch 4/150\n",
            "782/782 - 4s - loss: 1.0839 - accuracy: 0.7123\n",
            "Epoch 5/150\n",
            "782/782 - 4s - loss: 1.0293 - accuracy: 0.7267\n",
            "Epoch 6/150\n",
            "782/782 - 4s - loss: 0.9896 - accuracy: 0.7378\n",
            "Epoch 7/150\n",
            "782/782 - 4s - loss: 0.9629 - accuracy: 0.7495\n",
            "Epoch 8/150\n",
            "782/782 - 4s - loss: 0.9440 - accuracy: 0.7560\n",
            "Epoch 9/150\n",
            "782/782 - 4s - loss: 0.9240 - accuracy: 0.7606\n",
            "Epoch 10/150\n",
            "782/782 - 4s - loss: 0.9015 - accuracy: 0.7729\n",
            "Epoch 11/150\n",
            "782/782 - 4s - loss: 0.9000 - accuracy: 0.7721\n",
            "Epoch 12/150\n",
            "782/782 - 4s - loss: 0.8825 - accuracy: 0.7803\n",
            "Epoch 13/150\n",
            "782/782 - 4s - loss: 0.8728 - accuracy: 0.7848\n",
            "Epoch 14/150\n",
            "782/782 - 4s - loss: 0.8602 - accuracy: 0.7897\n",
            "Epoch 15/150\n",
            "782/782 - 4s - loss: 0.8557 - accuracy: 0.7916\n",
            "Epoch 16/150\n",
            "782/782 - 4s - loss: 0.8414 - accuracy: 0.7963\n",
            "Epoch 17/150\n",
            "782/782 - 4s - loss: 0.8341 - accuracy: 0.8010\n",
            "Epoch 18/150\n",
            "782/782 - 4s - loss: 0.8278 - accuracy: 0.8036\n",
            "Epoch 19/150\n",
            "782/782 - 4s - loss: 0.8248 - accuracy: 0.8044\n",
            "Epoch 20/150\n",
            "782/782 - 4s - loss: 0.8123 - accuracy: 0.8115\n",
            "Epoch 21/150\n",
            "782/782 - 4s - loss: 0.8074 - accuracy: 0.8114\n",
            "Epoch 22/150\n",
            "782/782 - 4s - loss: 0.8012 - accuracy: 0.8141\n",
            "Epoch 23/150\n",
            "782/782 - 4s - loss: 0.7901 - accuracy: 0.8193\n",
            "Epoch 24/150\n",
            "782/782 - 4s - loss: 0.7910 - accuracy: 0.8193\n",
            "Epoch 25/150\n",
            "782/782 - 4s - loss: 0.7839 - accuracy: 0.8224\n",
            "Epoch 26/150\n",
            "782/782 - 4s - loss: 0.7739 - accuracy: 0.8265\n",
            "Epoch 27/150\n",
            "782/782 - 4s - loss: 0.7652 - accuracy: 0.8287\n",
            "Epoch 28/150\n",
            "782/782 - 4s - loss: 0.7645 - accuracy: 0.8320\n",
            "Epoch 29/150\n",
            "782/782 - 4s - loss: 0.7568 - accuracy: 0.8350\n",
            "Epoch 30/150\n",
            "782/782 - 4s - loss: 0.7504 - accuracy: 0.8360\n",
            "Epoch 31/150\n",
            "782/782 - 4s - loss: 0.7460 - accuracy: 0.8374\n",
            "Epoch 32/150\n",
            "782/782 - 4s - loss: 0.7448 - accuracy: 0.8387\n",
            "Epoch 33/150\n",
            "782/782 - 4s - loss: 0.7304 - accuracy: 0.8437\n",
            "Epoch 34/150\n",
            "782/782 - 4s - loss: 0.7272 - accuracy: 0.8439\n",
            "Epoch 35/150\n",
            "782/782 - 4s - loss: 0.7255 - accuracy: 0.8457\n",
            "Epoch 36/150\n",
            "782/782 - 4s - loss: 0.7219 - accuracy: 0.8474\n",
            "Epoch 37/150\n",
            "782/782 - 4s - loss: 0.7185 - accuracy: 0.8492\n",
            "Epoch 38/150\n",
            "782/782 - 4s - loss: 0.7032 - accuracy: 0.8551\n",
            "Epoch 39/150\n",
            "782/782 - 4s - loss: 0.7014 - accuracy: 0.8566\n",
            "Epoch 40/150\n",
            "782/782 - 4s - loss: 0.7011 - accuracy: 0.8572\n",
            "Epoch 41/150\n",
            "782/782 - 4s - loss: 0.6962 - accuracy: 0.8603\n",
            "Epoch 42/150\n",
            "782/782 - 4s - loss: 0.6888 - accuracy: 0.8628\n",
            "Epoch 43/150\n",
            "782/782 - 4s - loss: 0.6769 - accuracy: 0.8657\n",
            "Epoch 44/150\n",
            "782/782 - 4s - loss: 0.6805 - accuracy: 0.8655\n",
            "Epoch 45/150\n",
            "782/782 - 4s - loss: 0.6773 - accuracy: 0.8691\n",
            "Epoch 46/150\n",
            "782/782 - 4s - loss: 0.6715 - accuracy: 0.8703\n",
            "Epoch 47/150\n",
            "782/782 - 4s - loss: 0.6584 - accuracy: 0.8757\n",
            "Epoch 48/150\n",
            "782/782 - 4s - loss: 0.6600 - accuracy: 0.8740\n",
            "Epoch 49/150\n",
            "782/782 - 4s - loss: 0.6520 - accuracy: 0.8792\n",
            "Epoch 50/150\n",
            "782/782 - 4s - loss: 0.6493 - accuracy: 0.8813\n",
            "Epoch 51/150\n",
            "782/782 - 4s - loss: 0.6445 - accuracy: 0.8832\n",
            "Epoch 52/150\n",
            "782/782 - 4s - loss: 0.6482 - accuracy: 0.8812\n",
            "Epoch 53/150\n",
            "782/782 - 4s - loss: 0.6390 - accuracy: 0.8853\n",
            "Epoch 54/150\n",
            "782/782 - 4s - loss: 0.6376 - accuracy: 0.8858\n",
            "Epoch 55/150\n",
            "782/782 - 4s - loss: 0.6249 - accuracy: 0.8914\n",
            "Epoch 56/150\n",
            "782/782 - 4s - loss: 0.6293 - accuracy: 0.8894\n",
            "Epoch 57/150\n",
            "782/782 - 4s - loss: 0.6192 - accuracy: 0.8932\n",
            "Epoch 58/150\n",
            "782/782 - 4s - loss: 0.6105 - accuracy: 0.8961\n",
            "Epoch 59/150\n",
            "782/782 - 4s - loss: 0.6091 - accuracy: 0.8972\n",
            "Epoch 60/150\n",
            "782/782 - 4s - loss: 0.6141 - accuracy: 0.8956\n",
            "Epoch 61/150\n",
            "782/782 - 4s - loss: 0.6041 - accuracy: 0.9007\n",
            "Epoch 62/150\n",
            "782/782 - 4s - loss: 0.6024 - accuracy: 0.8996\n",
            "Epoch 63/150\n",
            "782/782 - 4s - loss: 0.5974 - accuracy: 0.9038\n",
            "Epoch 64/150\n",
            "782/782 - 4s - loss: 0.6007 - accuracy: 0.9017\n",
            "Epoch 65/150\n",
            "782/782 - 4s - loss: 0.5958 - accuracy: 0.9038\n",
            "Epoch 66/150\n",
            "782/782 - 4s - loss: 0.5864 - accuracy: 0.9068\n",
            "Epoch 67/150\n",
            "782/782 - 4s - loss: 0.5793 - accuracy: 0.9085\n",
            "Epoch 68/150\n",
            "782/782 - 4s - loss: 0.5870 - accuracy: 0.9083\n",
            "Epoch 69/150\n",
            "782/782 - 4s - loss: 0.5881 - accuracy: 0.9075\n",
            "Epoch 70/150\n",
            "782/782 - 4s - loss: 0.5846 - accuracy: 0.9092\n",
            "Epoch 71/150\n",
            "782/782 - 4s - loss: 0.5776 - accuracy: 0.9119\n",
            "Epoch 72/150\n",
            "782/782 - 4s - loss: 0.5696 - accuracy: 0.9146\n",
            "Epoch 73/150\n",
            "782/782 - 4s - loss: 0.5685 - accuracy: 0.9138\n",
            "Epoch 74/150\n",
            "782/782 - 4s - loss: 0.5788 - accuracy: 0.9106\n",
            "Epoch 75/150\n",
            "782/782 - 4s - loss: 0.5718 - accuracy: 0.9140\n",
            "Epoch 76/150\n",
            "782/782 - 4s - loss: 0.5655 - accuracy: 0.9177\n",
            "Epoch 77/150\n",
            "782/782 - 4s - loss: 0.5605 - accuracy: 0.9181\n",
            "Epoch 78/150\n",
            "782/782 - 4s - loss: 0.5737 - accuracy: 0.9137\n",
            "Epoch 79/150\n",
            "782/782 - 4s - loss: 0.5627 - accuracy: 0.9166\n",
            "Epoch 80/150\n",
            "782/782 - 4s - loss: 0.5596 - accuracy: 0.9184\n",
            "Epoch 81/150\n",
            "782/782 - 4s - loss: 0.5500 - accuracy: 0.9222\n",
            "Epoch 82/150\n",
            "782/782 - 4s - loss: 0.5504 - accuracy: 0.9199\n",
            "Epoch 83/150\n",
            "782/782 - 4s - loss: 0.5611 - accuracy: 0.9171\n",
            "Epoch 84/150\n",
            "782/782 - 4s - loss: 0.5520 - accuracy: 0.9211\n",
            "Epoch 85/150\n",
            "782/782 - 4s - loss: 0.5578 - accuracy: 0.9190\n",
            "Epoch 86/150\n",
            "782/782 - 4s - loss: 0.5502 - accuracy: 0.9226\n",
            "Epoch 87/150\n",
            "782/782 - 4s - loss: 0.5428 - accuracy: 0.9233\n",
            "Epoch 88/150\n",
            "782/782 - 4s - loss: 0.5428 - accuracy: 0.9246\n",
            "Epoch 89/150\n",
            "782/782 - 4s - loss: 0.5518 - accuracy: 0.9205\n",
            "Epoch 90/150\n",
            "782/782 - 4s - loss: 0.5369 - accuracy: 0.9269\n",
            "Epoch 91/150\n",
            "782/782 - 4s - loss: 0.5427 - accuracy: 0.9245\n",
            "Epoch 92/150\n",
            "782/782 - 4s - loss: 0.5460 - accuracy: 0.9252\n",
            "Epoch 93/150\n",
            "782/782 - 4s - loss: 0.5527 - accuracy: 0.9213\n",
            "Epoch 94/150\n",
            "782/782 - 4s - loss: 0.5395 - accuracy: 0.9250\n",
            "Epoch 95/150\n",
            "782/782 - 4s - loss: 0.5627 - accuracy: 0.9192\n",
            "Epoch 96/150\n",
            "782/782 - 4s - loss: 0.5292 - accuracy: 0.9300\n",
            "Epoch 97/150\n",
            "782/782 - 4s - loss: 0.5377 - accuracy: 0.9274\n",
            "Epoch 98/150\n",
            "782/782 - 4s - loss: 0.5473 - accuracy: 0.9234\n",
            "Epoch 99/150\n",
            "782/782 - 4s - loss: 0.5293 - accuracy: 0.9317\n",
            "Epoch 100/150\n",
            "782/782 - 4s - loss: 0.5376 - accuracy: 0.9262\n",
            "Epoch 101/150\n",
            "782/782 - 4s - loss: 0.5392 - accuracy: 0.9274\n",
            "Epoch 102/150\n",
            "782/782 - 4s - loss: 0.5249 - accuracy: 0.9314\n",
            "Epoch 103/150\n",
            "782/782 - 4s - loss: 0.5363 - accuracy: 0.9261\n",
            "Epoch 104/150\n",
            "782/782 - 4s - loss: 0.5333 - accuracy: 0.9288\n",
            "Epoch 105/150\n",
            "782/782 - 4s - loss: 0.5316 - accuracy: 0.9304\n",
            "Epoch 106/150\n",
            "782/782 - 4s - loss: 0.5309 - accuracy: 0.9300\n",
            "Epoch 107/150\n",
            "782/782 - 4s - loss: 0.5339 - accuracy: 0.9273\n",
            "Epoch 108/150\n",
            "782/782 - 4s - loss: 0.5374 - accuracy: 0.9290\n",
            "Epoch 109/150\n",
            "782/782 - 4s - loss: 0.5178 - accuracy: 0.9348\n",
            "Epoch 110/150\n",
            "782/782 - 4s - loss: 0.5423 - accuracy: 0.9263\n",
            "Epoch 111/150\n",
            "782/782 - 4s - loss: 0.5384 - accuracy: 0.9277\n",
            "Epoch 112/150\n",
            "782/782 - 4s - loss: 0.5244 - accuracy: 0.9331\n",
            "Epoch 113/150\n",
            "782/782 - 4s - loss: 0.5195 - accuracy: 0.9325\n",
            "Epoch 114/150\n",
            "782/782 - 4s - loss: 0.5414 - accuracy: 0.9271\n",
            "Epoch 115/150\n",
            "782/782 - 4s - loss: 0.5306 - accuracy: 0.9307\n",
            "Epoch 116/150\n",
            "782/782 - 4s - loss: 0.5258 - accuracy: 0.9326\n",
            "Epoch 117/150\n",
            "782/782 - 4s - loss: 0.5266 - accuracy: 0.9306\n",
            "Epoch 118/150\n",
            "782/782 - 4s - loss: 0.5221 - accuracy: 0.9342\n",
            "Epoch 119/150\n",
            "782/782 - 4s - loss: 0.5220 - accuracy: 0.9320\n",
            "Epoch 120/150\n",
            "782/782 - 4s - loss: 0.5275 - accuracy: 0.9316\n",
            "Epoch 121/150\n",
            "782/782 - 4s - loss: 0.5328 - accuracy: 0.9309\n",
            "Epoch 122/150\n",
            "782/782 - 4s - loss: 0.5264 - accuracy: 0.9322\n",
            "Epoch 123/150\n",
            "782/782 - 4s - loss: 0.5311 - accuracy: 0.9321\n",
            "Epoch 124/150\n",
            "782/782 - 4s - loss: 0.5105 - accuracy: 0.9376\n",
            "Epoch 125/150\n",
            "782/782 - 4s - loss: 0.5319 - accuracy: 0.9303\n",
            "Epoch 126/150\n",
            "782/782 - 4s - loss: 0.5209 - accuracy: 0.9330\n",
            "Epoch 127/150\n",
            "782/782 - 4s - loss: 0.5224 - accuracy: 0.9328\n",
            "Epoch 128/150\n",
            "782/782 - 4s - loss: 0.5145 - accuracy: 0.9354\n",
            "Epoch 129/150\n",
            "782/782 - 4s - loss: 0.5407 - accuracy: 0.9271\n",
            "Epoch 130/150\n",
            "782/782 - 4s - loss: 0.5098 - accuracy: 0.9367\n",
            "Epoch 131/150\n",
            "782/782 - 4s - loss: 0.5288 - accuracy: 0.9323\n",
            "Epoch 132/150\n",
            "782/782 - 4s - loss: 0.5189 - accuracy: 0.9345\n",
            "Epoch 133/150\n",
            "782/782 - 4s - loss: 0.5123 - accuracy: 0.9363\n",
            "Epoch 134/150\n",
            "782/782 - 4s - loss: 0.5233 - accuracy: 0.9325\n",
            "Epoch 135/150\n",
            "782/782 - 4s - loss: 0.5265 - accuracy: 0.9308\n",
            "Epoch 136/150\n",
            "782/782 - 4s - loss: 0.5001 - accuracy: 0.9406\n",
            "Epoch 137/150\n",
            "782/782 - 4s - loss: 0.5338 - accuracy: 0.9275\n",
            "Epoch 138/150\n",
            "782/782 - 4s - loss: 0.5145 - accuracy: 0.9369\n",
            "Epoch 139/150\n",
            "782/782 - 4s - loss: 0.5257 - accuracy: 0.9309\n",
            "Epoch 140/150\n",
            "782/782 - 4s - loss: 0.5145 - accuracy: 0.9362\n",
            "Epoch 141/150\n",
            "782/782 - 4s - loss: 0.5119 - accuracy: 0.9372\n",
            "Epoch 142/150\n",
            "782/782 - 4s - loss: 0.5174 - accuracy: 0.9339\n",
            "Epoch 143/150\n",
            "782/782 - 4s - loss: 0.5223 - accuracy: 0.9327\n",
            "Epoch 144/150\n",
            "782/782 - 4s - loss: 0.5120 - accuracy: 0.9357\n",
            "Epoch 145/150\n",
            "782/782 - 4s - loss: 0.5213 - accuracy: 0.9340\n",
            "Epoch 146/150\n",
            "782/782 - 4s - loss: 0.5132 - accuracy: 0.9358\n",
            "Epoch 147/150\n",
            "782/782 - 4s - loss: 0.5278 - accuracy: 0.9320\n",
            "Epoch 148/150\n",
            "782/782 - 4s - loss: 0.5064 - accuracy: 0.9386\n",
            "Epoch 149/150\n",
            "782/782 - 4s - loss: 0.5261 - accuracy: 0.9326\n",
            "Epoch 150/150\n",
            "782/782 - 4s - loss: 0.5134 - accuracy: 0.9365\n",
            "157/157 - 0s - loss: 1.7172 - accuracy: 0.6851\n"
          ],
          "name": "stdout"
        },
        {
          "output_type": "execute_result",
          "data": {
            "text/plain": [
              "[1.7172490358352661, 0.6851000189781189]"
            ]
          },
          "metadata": {
            "tags": []
          },
          "execution_count": 65
        }
      ]
    },
    {
      "cell_type": "markdown",
      "metadata": {
        "id": "qaAcQRi7s7dj"
      },
      "source": [
        "Source: TensorFlow 2.0 Beginner Tutorials<br>\n",
        "[TensorFlow Tutorial 6 - RNNs, GRUs, LSTMs and Bidirectionality](https://www.youtube.com/watch?v=Ogvd787uJO8&ab_channel=AladdinPersson[link text](https://))"
      ]
    },
    {
      "cell_type": "code",
      "metadata": {
        "id": "WYGn2N-rn9uQ"
      },
      "source": [
        "from tensorflow.keras.datasets import mnist"
      ],
      "execution_count": 66,
      "outputs": []
    },
    {
      "cell_type": "code",
      "metadata": {
        "id": "59SDnH1jtJEi"
      },
      "source": [
        "(x_train, y_train), (x_test, y_test) = mnist.load_data()\n",
        "x_train = x_train.astype(\"float32\") / 255.0\n",
        "x_test = x_test.astype(\"float32\") / 255.0"
      ],
      "execution_count": 67,
      "outputs": []
    },
    {
      "cell_type": "code",
      "metadata": {
        "id": "w1YycVXVtcBr",
        "outputId": "2a86cfef-3311-4c37-f48d-2b83304cfed5",
        "colab": {
          "base_uri": "https://localhost:8080/"
        }
      },
      "source": [
        "model = keras.Sequential()\n",
        "model.add(keras.Input(shape=(None, 28))) # None because we don't have to sepcify the number of time steps\n",
        "model.add(layers.SimpleRNN(512, return_sequences=True, activation='relu')) # return_sequences=True : return the output from each time step - that way we can stack multiple RNN layers on top of each other\n",
        "model.add(layers.SimpleRNN(512, activation='relu'))\n",
        "model.add(layers.Dense(10))\n",
        "print(model.summary())"
      ],
      "execution_count": 68,
      "outputs": [
        {
          "output_type": "stream",
          "text": [
            "Model: \"sequential_5\"\n",
            "_________________________________________________________________\n",
            "Layer (type)                 Output Shape              Param #   \n",
            "=================================================================\n",
            "simple_rnn (SimpleRNN)       (None, None, 512)         276992    \n",
            "_________________________________________________________________\n",
            "simple_rnn_1 (SimpleRNN)     (None, 512)               524800    \n",
            "_________________________________________________________________\n",
            "dense_21 (Dense)             (None, 10)                5130      \n",
            "=================================================================\n",
            "Total params: 806,922\n",
            "Trainable params: 806,922\n",
            "Non-trainable params: 0\n",
            "_________________________________________________________________\n",
            "None\n"
          ],
          "name": "stdout"
        }
      ]
    },
    {
      "cell_type": "code",
      "metadata": {
        "id": "e8-F01lQujjk"
      },
      "source": [
        "model.compile(\n",
        "    loss=keras.losses.SparseCategoricalCrossentropy(from_logits=True),\n",
        "    optimizer=keras.optimizers.Adam(lr=0.001),\n",
        "    metrics=[\"accuracy\"],\n",
        ")"
      ],
      "execution_count": 71,
      "outputs": []
    },
    {
      "cell_type": "code",
      "metadata": {
        "id": "aVe0Kx_vyAE0",
        "outputId": "f4e32e5c-3ea4-45b7-cffc-b278c0777b5d",
        "colab": {
          "base_uri": "https://localhost:8080/"
        }
      },
      "source": [
        "model.fit(x_train, y_train, batch_size=64, epochs=10, verbose=2)\n",
        "model.evaluate(x_test, y_test, batch_size=64, verbose=2)"
      ],
      "execution_count": 72,
      "outputs": [
        {
          "output_type": "stream",
          "text": [
            "Epoch 1/10\n",
            "938/938 - 28s - loss: 0.3219 - accuracy: 0.9024\n",
            "Epoch 2/10\n",
            "938/938 - 28s - loss: 0.1386 - accuracy: 0.9621\n",
            "Epoch 3/10\n",
            "938/938 - 28s - loss: 0.1188 - accuracy: 0.9680\n",
            "Epoch 4/10\n",
            "938/938 - 28s - loss: 0.1101 - accuracy: 0.9702\n",
            "Epoch 5/10\n",
            "938/938 - 28s - loss: 0.0913 - accuracy: 0.9757\n",
            "Epoch 6/10\n",
            "938/938 - 28s - loss: 0.0908 - accuracy: 0.9749\n",
            "Epoch 7/10\n",
            "938/938 - 28s - loss: 0.0800 - accuracy: 0.9787\n",
            "Epoch 8/10\n",
            "938/938 - 28s - loss: 0.0762 - accuracy: 0.9792\n",
            "Epoch 9/10\n",
            "938/938 - 28s - loss: 0.0739 - accuracy: 0.9792\n",
            "Epoch 10/10\n",
            "938/938 - 28s - loss: 0.0629 - accuracy: 0.9830\n",
            "157/157 - 1s - loss: 0.0794 - accuracy: 0.9790\n"
          ],
          "name": "stdout"
        },
        {
          "output_type": "execute_result",
          "data": {
            "text/plain": [
              "[0.07939868420362473, 0.9789999723434448]"
            ]
          },
          "metadata": {
            "tags": []
          },
          "execution_count": 72
        }
      ]
    },
    {
      "cell_type": "code",
      "metadata": {
        "id": "iONLpzvwynwe",
        "outputId": "b27cf50b-3191-4cf3-a906-86ee1e474caf",
        "colab": {
          "base_uri": "https://localhost:8080/"
        }
      },
      "source": [
        "model = keras.Sequential()\n",
        "model.add(keras.Input(shape=(None, 28))) # None because we don't have to sepcify the number of time steps\n",
        "model.add(layers.GRU(256, return_sequences=True, activation='tanh')) # return_sequences=True : return the output from each time step - that way we can stack multiple RNN layers on top of each other\n",
        "model.add(layers.GRU(256, activation='tanh'))\n",
        "model.add(layers.Dense(10))\n",
        "print(model.summary())"
      ],
      "execution_count": 73,
      "outputs": [
        {
          "output_type": "stream",
          "text": [
            "Model: \"sequential_6\"\n",
            "_________________________________________________________________\n",
            "Layer (type)                 Output Shape              Param #   \n",
            "=================================================================\n",
            "gru (GRU)                    (None, None, 256)         219648    \n",
            "_________________________________________________________________\n",
            "gru_1 (GRU)                  (None, 256)               394752    \n",
            "_________________________________________________________________\n",
            "dense_22 (Dense)             (None, 10)                2570      \n",
            "=================================================================\n",
            "Total params: 616,970\n",
            "Trainable params: 616,970\n",
            "Non-trainable params: 0\n",
            "_________________________________________________________________\n",
            "None\n"
          ],
          "name": "stdout"
        }
      ]
    },
    {
      "cell_type": "code",
      "metadata": {
        "id": "rYHFeIjvzAHF",
        "outputId": "cdff3510-857b-4f86-edf5-e6f24f4dabd9",
        "colab": {
          "base_uri": "https://localhost:8080/"
        }
      },
      "source": [
        "model.compile(\n",
        "    loss=keras.losses.SparseCategoricalCrossentropy(from_logits=True),\n",
        "    optimizer=keras.optimizers.Adam(lr=0.001),\n",
        "    metrics=[\"accuracy\"],\n",
        ")\n",
        "\n",
        "model.fit(x_train, y_train, batch_size=64, epochs=10, verbose=2)\n",
        "model.evaluate(x_test, y_test, batch_size=64, verbose=2)"
      ],
      "execution_count": 74,
      "outputs": [
        {
          "output_type": "stream",
          "text": [
            "Epoch 1/10\n",
            "938/938 - 6s - loss: 0.2762 - accuracy: 0.9079\n",
            "Epoch 2/10\n",
            "938/938 - 6s - loss: 0.0686 - accuracy: 0.9789\n",
            "Epoch 3/10\n",
            "938/938 - 6s - loss: 0.0465 - accuracy: 0.9854\n",
            "Epoch 4/10\n",
            "938/938 - 6s - loss: 0.0350 - accuracy: 0.9893\n",
            "Epoch 5/10\n",
            "938/938 - 6s - loss: 0.0305 - accuracy: 0.9902\n",
            "Epoch 6/10\n",
            "938/938 - 6s - loss: 0.0250 - accuracy: 0.9920\n",
            "Epoch 7/10\n",
            "938/938 - 6s - loss: 0.0205 - accuracy: 0.9937\n",
            "Epoch 8/10\n",
            "938/938 - 6s - loss: 0.0195 - accuracy: 0.9938\n",
            "Epoch 9/10\n",
            "938/938 - 6s - loss: 0.0170 - accuracy: 0.9945\n",
            "Epoch 10/10\n",
            "938/938 - 6s - loss: 0.0164 - accuracy: 0.9943\n",
            "157/157 - 0s - loss: 0.0397 - accuracy: 0.9883\n"
          ],
          "name": "stdout"
        },
        {
          "output_type": "execute_result",
          "data": {
            "text/plain": [
              "[0.039734989404678345, 0.9883000254631042]"
            ]
          },
          "metadata": {
            "tags": []
          },
          "execution_count": 74
        }
      ]
    },
    {
      "cell_type": "code",
      "metadata": {
        "id": "bXFshD0Xy__n",
        "outputId": "30f18101-fc66-4d8c-86c8-c4e4763870f0",
        "colab": {
          "base_uri": "https://localhost:8080/"
        }
      },
      "source": [
        "model = keras.Sequential()\n",
        "model.add(keras.Input(shape=(None, 28))) # None because we don't have to sepcify the number of time steps\n",
        "model.add(layers.LSTM(256, return_sequences=True, activation='tanh')) # return_sequences=True : return the output from each time step - that way we can stack multiple RNN layers on top of each other\n",
        "model.add(layers.LSTM(256, activation='tanh'))\n",
        "model.add(layers.Dense(10))\n",
        "print(model.summary())"
      ],
      "execution_count": 75,
      "outputs": [
        {
          "output_type": "stream",
          "text": [
            "Model: \"sequential_7\"\n",
            "_________________________________________________________________\n",
            "Layer (type)                 Output Shape              Param #   \n",
            "=================================================================\n",
            "lstm (LSTM)                  (None, None, 256)         291840    \n",
            "_________________________________________________________________\n",
            "lstm_1 (LSTM)                (None, 256)               525312    \n",
            "_________________________________________________________________\n",
            "dense_23 (Dense)             (None, 10)                2570      \n",
            "=================================================================\n",
            "Total params: 819,722\n",
            "Trainable params: 819,722\n",
            "Non-trainable params: 0\n",
            "_________________________________________________________________\n",
            "None\n"
          ],
          "name": "stdout"
        }
      ]
    },
    {
      "cell_type": "code",
      "metadata": {
        "id": "Z6iFpz2azJvV",
        "outputId": "c0e544f8-f3ec-496b-eb12-175242a75243",
        "colab": {
          "base_uri": "https://localhost:8080/"
        }
      },
      "source": [
        "model.compile(\n",
        "    loss=keras.losses.SparseCategoricalCrossentropy(from_logits=True),\n",
        "    optimizer=keras.optimizers.Adam(lr=0.001),\n",
        "    metrics=[\"accuracy\"],\n",
        ")\n",
        "\n",
        "model.fit(x_train, y_train, batch_size=64, epochs=10, verbose=2)\n",
        "model.evaluate(x_test, y_test, batch_size=64, verbose=2)"
      ],
      "execution_count": 76,
      "outputs": [
        {
          "output_type": "stream",
          "text": [
            "Epoch 1/10\n",
            "938/938 - 7s - loss: 0.2994 - accuracy: 0.9012\n",
            "Epoch 2/10\n",
            "938/938 - 7s - loss: 0.0859 - accuracy: 0.9733\n",
            "Epoch 3/10\n",
            "938/938 - 7s - loss: 0.0582 - accuracy: 0.9824\n",
            "Epoch 4/10\n",
            "938/938 - 7s - loss: 0.0436 - accuracy: 0.9864\n",
            "Epoch 5/10\n",
            "938/938 - 7s - loss: 0.0382 - accuracy: 0.9880\n",
            "Epoch 6/10\n",
            "938/938 - 7s - loss: 0.0295 - accuracy: 0.9909\n",
            "Epoch 7/10\n",
            "938/938 - 7s - loss: 0.0271 - accuracy: 0.9914\n",
            "Epoch 8/10\n",
            "938/938 - 7s - loss: 0.0230 - accuracy: 0.9930\n",
            "Epoch 9/10\n",
            "938/938 - 7s - loss: 0.0207 - accuracy: 0.9937\n",
            "Epoch 10/10\n",
            "938/938 - 7s - loss: 0.0186 - accuracy: 0.9941\n",
            "157/157 - 1s - loss: 0.0407 - accuracy: 0.9888\n"
          ],
          "name": "stdout"
        },
        {
          "output_type": "execute_result",
          "data": {
            "text/plain": [
              "[0.04070291295647621, 0.9887999892234802]"
            ]
          },
          "metadata": {
            "tags": []
          },
          "execution_count": 76
        }
      ]
    },
    {
      "cell_type": "code",
      "metadata": {
        "id": "aLfqVYavzJsw",
        "outputId": "aec221e7-188a-461b-f67e-1fe6cb40dc2e",
        "colab": {
          "base_uri": "https://localhost:8080/"
        }
      },
      "source": [
        "model = keras.Sequential()\n",
        "model.add(keras.Input(shape=(None, 28))) \n",
        "model.add(\n",
        "    layers.Bidirectional(\n",
        "      layers.LSTM(256, return_sequences=True, activation='tanh')\n",
        "    ) \n",
        ")\n",
        "model.add(\n",
        "    layers.Bidirectional(\n",
        "      layers.LSTM(256, activation='tanh')\n",
        "    ) \n",
        ")\n",
        "model.add(layers.Dense(10))\n",
        "print(model.summary())"
      ],
      "execution_count": 78,
      "outputs": [
        {
          "output_type": "stream",
          "text": [
            "Model: \"sequential_8\"\n",
            "_________________________________________________________________\n",
            "Layer (type)                 Output Shape              Param #   \n",
            "=================================================================\n",
            "bidirectional (Bidirectional (None, None, 512)         583680    \n",
            "_________________________________________________________________\n",
            "bidirectional_1 (Bidirection (None, 512)               1574912   \n",
            "_________________________________________________________________\n",
            "dense_24 (Dense)             (None, 10)                5130      \n",
            "=================================================================\n",
            "Total params: 2,163,722\n",
            "Trainable params: 2,163,722\n",
            "Non-trainable params: 0\n",
            "_________________________________________________________________\n",
            "None\n"
          ],
          "name": "stdout"
        }
      ]
    },
    {
      "cell_type": "code",
      "metadata": {
        "id": "y3dxZmrvzJqE",
        "outputId": "af1aed72-6ed7-4480-eccf-6150af10300e",
        "colab": {
          "base_uri": "https://localhost:8080/"
        }
      },
      "source": [
        "model.compile(\n",
        "    loss=keras.losses.SparseCategoricalCrossentropy(from_logits=True),\n",
        "    optimizer=keras.optimizers.Adam(lr=0.001),\n",
        "    metrics=[\"accuracy\"],\n",
        ")\n",
        "\n",
        "model.fit(x_train, y_train, batch_size=64, epochs=10, verbose=2)\n",
        "model.evaluate(x_test, y_test, batch_size=64, verbose=2)"
      ],
      "execution_count": 79,
      "outputs": [
        {
          "output_type": "stream",
          "text": [
            "Epoch 1/10\n",
            "938/938 - 14s - loss: 0.2720 - accuracy: 0.9093\n",
            "Epoch 2/10\n",
            "938/938 - 14s - loss: 0.0773 - accuracy: 0.9760\n",
            "Epoch 3/10\n",
            "938/938 - 14s - loss: 0.0523 - accuracy: 0.9844\n",
            "Epoch 4/10\n",
            "938/938 - 14s - loss: 0.0426 - accuracy: 0.9870\n",
            "Epoch 5/10\n",
            "938/938 - 14s - loss: 0.0334 - accuracy: 0.9892\n",
            "Epoch 6/10\n",
            "938/938 - 14s - loss: 0.0262 - accuracy: 0.9917\n",
            "Epoch 7/10\n",
            "938/938 - 14s - loss: 0.0263 - accuracy: 0.9919\n",
            "Epoch 8/10\n",
            "938/938 - 14s - loss: 0.0196 - accuracy: 0.9937\n",
            "Epoch 9/10\n",
            "938/938 - 14s - loss: 0.0203 - accuracy: 0.9934\n",
            "Epoch 10/10\n",
            "938/938 - 14s - loss: 0.0168 - accuracy: 0.9945\n",
            "157/157 - 1s - loss: 0.0324 - accuracy: 0.9906\n"
          ],
          "name": "stdout"
        },
        {
          "output_type": "execute_result",
          "data": {
            "text/plain": [
              "[0.03240761533379555, 0.9905999898910522]"
            ]
          },
          "metadata": {
            "tags": []
          },
          "execution_count": 79
        }
      ]
    },
    {
      "cell_type": "code",
      "metadata": {
        "id": "0GYTf6Etz4oD"
      },
      "source": [
        ""
      ],
      "execution_count": null,
      "outputs": []
    },
    {
      "cell_type": "code",
      "metadata": {
        "id": "cc-joX_Zz4kC"
      },
      "source": [
        ""
      ],
      "execution_count": null,
      "outputs": []
    },
    {
      "cell_type": "code",
      "metadata": {
        "id": "0oKq21-Pz4hS"
      },
      "source": [
        ""
      ],
      "execution_count": null,
      "outputs": []
    }
  ]
}